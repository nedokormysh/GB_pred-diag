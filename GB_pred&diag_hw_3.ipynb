{
  "cells": [
    {
      "cell_type": "markdown",
      "metadata": {
        "id": "view-in-github",
        "colab_type": "text"
      },
      "source": [
        "<a href=\"https://colab.research.google.com/github/nedokormysh/GB_pred-diag/blob/lesson_3_class_pytorch/GB_pred%26diag_hw_3.ipynb\" target=\"_parent\"><img src=\"https://colab.research.google.com/assets/colab-badge.svg\" alt=\"Open In Colab\"/></a>"
      ]
    },
    {
      "cell_type": "markdown",
      "metadata": {
        "id": "uI6FB-JeTosh"
      },
      "source": [
        "**Условие**\n",
        "\n",
        "https://archive.ics.uci.edu/dataset/938/regensburg+pediatric+appendicitis\n",
        "c этим датасетом будем работать на уроке.\n",
        "\n",
        "ДЗ -\n",
        "\n",
        "заполнить пропуски наиболее релеватным путем, аргументировать это\n",
        "\n",
        "Таргетом оставляем признак - болен аппендицитом или нет.\n",
        "\n",
        "Построить три различные типа классификаторов, обязательно одну из них Keras или PyTorch. Построить графики функции потерь на трейне и тесте.\n",
        "\n",
        "Визуализировать важность признаков с точки зрения модели - чемпиона.\n",
        "\n",
        "Составить грамотный обобщающий вывод.\n",
        "\n",
        "Сдавать как обычно - Гитхаб или Гугл Колаб."
      ]
    },
    {
      "cell_type": "code",
      "execution_count": null,
      "metadata": {
        "id": "uTOA3N9fjNh8",
        "colab": {
          "base_uri": "https://localhost:8080/"
        },
        "outputId": "5c5555eb-f281-477a-d4cf-427ea9dbf698"
      },
      "outputs": [
        {
          "output_type": "stream",
          "name": "stdout",
          "text": [
            "  Preparing metadata (setup.py) ... \u001b[?25l\u001b[?25hdone\n",
            "  Preparing metadata (setup.py) ... \u001b[?25l\u001b[?25hdone\n",
            "\u001b[2K     \u001b[90m━━━━━━━━━━━━━━━━━━━━━━━━━━━━━━━━━━━━━━━━\u001b[0m \u001b[32m154.7/154.7 kB\u001b[0m \u001b[31m6.2 MB/s\u001b[0m eta \u001b[36m0:00:00\u001b[0m\n",
            "\u001b[?25h  Building wheel for fancyimpute (setup.py) ... \u001b[?25l\u001b[?25hdone\n",
            "  Building wheel for knnimpute (setup.py) ... \u001b[?25l\u001b[?25hdone\n",
            "\u001b[2K     \u001b[90m━━━━━━━━━━━━━━━━━━━━━━━━━━━━━━━━━━━━━━━━\u001b[0m \u001b[32m98.2/98.2 MB\u001b[0m \u001b[31m6.5 MB/s\u001b[0m eta \u001b[36m0:00:00\u001b[0m\n",
            "\u001b[2K     \u001b[90m━━━━━━━━━━━━━━━━━━━━━━━━━━━━━━━━━━━━━━━━\u001b[0m \u001b[32m216.2/216.2 kB\u001b[0m \u001b[31m4.2 MB/s\u001b[0m eta \u001b[36m0:00:00\u001b[0m\n",
            "\u001b[?25h  Preparing metadata (setup.py) ... \u001b[?25l\u001b[?25hdone\n",
            "  Building wheel for eli5 (setup.py) ... \u001b[?25l\u001b[?25hdone\n"
          ]
        }
      ],
      "source": [
        "!pip install fancyimpute -q\n",
        "!pip install catboost -q\n",
        "# !pip install shap -q\n",
        "!pip install eli5 -q"
      ]
    },
    {
      "cell_type": "code",
      "execution_count": null,
      "metadata": {
        "id": "-X1sOX5RMkSM"
      },
      "outputs": [],
      "source": [
        "RND_STATE = 7575"
      ]
    },
    {
      "cell_type": "code",
      "execution_count": null,
      "metadata": {
        "id": "S8yi_gmui6TF"
      },
      "outputs": [],
      "source": [
        "from fancyimpute import KNN, NuclearNormMinimization, SoftImpute, BiScaler, IterativeImputer\n",
        "import missingno as msno\n",
        "\n",
        "import pandas as pd\n",
        "import numpy as np\n",
        "import matplotlib.pyplot as plt\n",
        "import seaborn as sns\n",
        "\n",
        "from sklearn.model_selection import train_test_split\n",
        "from sklearn.linear_model import LogisticRegression\n",
        "from catboost import CatBoostClassifier\n",
        "from sklearn.neural_network import MLPClassifier\n",
        "\n",
        "# import shap\n",
        "from eli5 import show_weights\n",
        "\n",
        "from sklearn.pipeline import Pipeline\n",
        "from sklearn.metrics import classification_report\n",
        "\n",
        "from sklearn.metrics import accuracy_score, roc_auc_score, precision_score, \\\n",
        "                        recall_score, f1_score, log_loss, confusion_matrix, \\\n",
        "                  classification_report, roc_curve, auc, precision_recall_curve\n",
        "\n",
        "from sklearn.preprocessing import OneHotEncoder, MinMaxScaler, StandardScaler, \\\n",
        "                       LabelEncoder, label_binarize\n",
        "\n",
        "from sklearn.compose import ColumnTransformer\n",
        "from sklearn.impute import SimpleImputer\n",
        "\n",
        "import warnings\n",
        "warnings.filterwarnings('ignore')"
      ]
    },
    {
      "cell_type": "code",
      "source": [
        "def get_metrics(y_test, y_pred, y_score, name):\n",
        "    \"\"\"Вывод метрик для задачи классификации\"\"\"\n",
        "    df_metrics = pd.DataFrame()\n",
        "\n",
        "    df_metrics['model'] = [name]\n",
        "\n",
        "    # Основные метрики для задачи классификации\n",
        "    df_metrics['Accuracy'] = accuracy_score(y_test, y_pred)\n",
        "    df_metrics['ROC_AUC'] = roc_auc_score(y_test, y_score[:, 1])\n",
        "    df_metrics['Precision'] = precision_score(y_test, y_pred)\n",
        "    df_metrics['Recall'] = recall_score(y_test, y_pred)\n",
        "    df_metrics['f1'] = f1_score(y_test, y_pred)\n",
        "    df_metrics['Logloss'] = log_loss(y_test, y_score)\n",
        "\n",
        "    return df_metrics"
      ],
      "metadata": {
        "id": "4rwBqkNl6G0-"
      },
      "execution_count": null,
      "outputs": []
    },
    {
      "cell_type": "markdown",
      "metadata": {
        "id": "-FS8PUgvR9Qh"
      },
      "source": [
        "# Загрузка данных"
      ]
    },
    {
      "cell_type": "code",
      "execution_count": null,
      "metadata": {
        "id": "eQOR5AGTR5m6"
      },
      "outputs": [],
      "source": [
        "!pip install ucimlrepo -q"
      ]
    },
    {
      "cell_type": "code",
      "execution_count": null,
      "metadata": {
        "id": "frDaPaIQSGQj"
      },
      "outputs": [],
      "source": [
        "from ucimlrepo import fetch_ucirepo\n",
        "\n",
        "# fetch dataset\n",
        "regensburg_pediatric_appendicitis = fetch_ucirepo(id=938)\n",
        "\n",
        "# data (as pandas dataframes)\n",
        "X = regensburg_pediatric_appendicitis.data.features\n",
        "y = regensburg_pediatric_appendicitis.data.targets\n",
        "\n",
        "# # metadata\n",
        "# print(regensburg_pediatric_appendicitis.metadata)\n",
        "\n",
        "# # variable information\n",
        "# print(regensburg_pediatric_appendicitis.variables)"
      ]
    },
    {
      "cell_type": "code",
      "execution_count": null,
      "metadata": {
        "id": "ZKfkZO2xAVWH"
      },
      "outputs": [],
      "source": [
        "y = y['Diagnosis']"
      ]
    },
    {
      "cell_type": "code",
      "execution_count": null,
      "metadata": {
        "colab": {
          "base_uri": "https://localhost:8080/"
        },
        "id": "retksGGwAipN",
        "outputId": "3b70fb4a-8db5-4718-c6ea-1433bd4c0c18"
      },
      "outputs": [
        {
          "output_type": "execute_result",
          "data": {
            "text/plain": [
              "2"
            ]
          },
          "metadata": {},
          "execution_count": 8
        }
      ],
      "source": [
        "y.isna().sum()"
      ]
    },
    {
      "cell_type": "markdown",
      "source": [
        "У нас есть пропущенные значения в таргете. Не будем использовать эти строки."
      ],
      "metadata": {
        "id": "37iclifK3bd5"
      }
    },
    {
      "cell_type": "code",
      "execution_count": null,
      "metadata": {
        "id": "YG38zOVVSL4w"
      },
      "outputs": [],
      "source": [
        "df = pd.concat([X, y], axis=1)\n",
        "df_original = df.copy()"
      ]
    },
    {
      "cell_type": "code",
      "execution_count": null,
      "metadata": {
        "colab": {
          "base_uri": "https://localhost:8080/"
        },
        "id": "oLlaSu_lBVD9",
        "outputId": "fb18315b-fab3-4112-88ce-f3db9bbfbc12"
      },
      "outputs": [
        {
          "output_type": "stream",
          "name": "stdout",
          "text": [
            "Количество объектов в исходном DataFrame: 780\n",
            "Количество объектов в новом DataFrame: 2\n"
          ]
        }
      ],
      "source": [
        "# создание DataFrame для хранения объектов с пропущенными значениями\n",
        "missing_df = df[df['Diagnosis'].isna()]\n",
        "\n",
        "# удаление объектов с пропущенными значениями из исходного DataFrame\n",
        "df = df.dropna(subset=['Diagnosis'])\n",
        "\n",
        "# проверка количества объектов в исходном и новом DataFrame\n",
        "print('Количество объектов в исходном DataFrame:', len(df))\n",
        "print('Количество объектов в новом DataFrame:', len(missing_df))\n",
        "df_original = df.copy()"
      ]
    },
    {
      "cell_type": "markdown",
      "metadata": {
        "id": "VH_-JoFySXEG"
      },
      "source": [
        "# Краткий анализ данных"
      ]
    },
    {
      "cell_type": "markdown",
      "source": [
        "## Целевая переменная"
      ],
      "metadata": {
        "id": "DqVc3J5W6Mdw"
      }
    },
    {
      "cell_type": "code",
      "source": [
        "norm_target = df['Diagnosis'].value_counts(normalize=True).mul(100).rename('percent').reset_index()\n",
        "norm_target.columns = ['Diagnosis', 'percent']\n",
        "\n",
        "plt.figure(figsize=(11, 7))\n",
        "ax = sns.barplot(x='Diagnosis', y='percent', data=norm_target, alpha=0.5)\n",
        "\n",
        "for p in ax.patches:\n",
        "    percentage = '{:.1f}%'.format(p.get_height())\n",
        "    ax.annotate(\n",
        "        percentage,\n",
        "        (p.get_x() + p.get_width() / 2., p.get_height()),\n",
        "        ha='center',\n",
        "        va='center',\n",
        "        xytext=(0, 10),\n",
        "        textcoords='offset points',\n",
        "        fontsize=14)\n",
        "\n",
        "colors = ['g', 'r']\n",
        "for i, p in enumerate(ax.patches):\n",
        "    p.set_facecolor(colors[i % len(colors)])\n",
        "\n",
        "plt.title('Default', fontsize=20)\n",
        "plt.xlabel('Diagnosis', fontsize=14)\n",
        "plt.ylabel('Проценты', fontsize=14)\n",
        "\n",
        "plt.xticks(fontsize=14)\n",
        "plt.yticks(fontsize=14)\n",
        "plt.show()"
      ],
      "metadata": {
        "colab": {
          "base_uri": "https://localhost:8080/",
          "height": 659
        },
        "id": "sJPjjIwY6Puu",
        "outputId": "6f882cf3-2bb0-4220-829f-0b3229b72694"
      },
      "execution_count": null,
      "outputs": [
        {
          "output_type": "display_data",
          "data": {
            "text/plain": [
              "<Figure size 1100x700 with 1 Axes>"
            ],
            "image/png": "[encoded data removed]"
          },
          "metadata": {}
        }
      ]
    },
    {
      "cell_type": "markdown",
      "source": [
        "**Выводы:**\n",
        "\n",
        "- задача классификации\n",
        "- в датасете присутствует особо нет дисбаланса классов"
      ],
      "metadata": {
        "id": "FPAiUFJc9fw1"
      }
    },
    {
      "cell_type": "markdown",
      "source": [
        "## Признаки"
      ],
      "metadata": {
        "id": "11inswY59qjO"
      }
    },
    {
      "cell_type": "code",
      "execution_count": null,
      "metadata": {
        "colab": {
          "base_uri": "https://localhost:8080/",
          "height": 193
        },
        "id": "1e0uY8lmSkLo",
        "outputId": "d78f393c-9693-465a-eae0-f3e3499300de"
      },
      "outputs": [
        {
          "output_type": "execute_result",
          "data": {
            "text/plain": [
              "       Age    BMI     Sex  Height  Weight  Length_of_Stay  Alvarado_Score  \\\n",
              "675   6.11  14.65  female   128.0    24.0             7.0             8.0   \n",
              "191  13.64  21.20  female   158.0    53.0             3.0             5.0   \n",
              "633   3.19  13.30  female    95.0    12.0             9.0             6.0   \n",
              "\n",
              "     Paedriatic_Appendicitis_Score Appendix_on_US  Appendix_Diameter  ...  \\\n",
              "675                            7.0            yes                6.0  ...   \n",
              "191                            4.0            yes                7.2  ...   \n",
              "633                            5.0             no                NaN  ...   \n",
              "\n",
              "    Pathological_Lymph_Nodes Lymph_Nodes_Location Bowel_Wall_Thickening  \\\n",
              "675                      NaN                  NaN                   NaN   \n",
              "191                      NaN                  NaN                   NaN   \n",
              "633                      yes                  NaN                   yes   \n",
              "\n",
              "    Conglomerate_of_Bowel_Loops Ileus Coprostasis  Meteorism  Enteritis  \\\n",
              "675                         NaN   NaN         NaN        NaN        NaN   \n",
              "191                         NaN   NaN         NaN        NaN        NaN   \n",
              "633                         NaN   NaN         yes        NaN        NaN   \n",
              "\n",
              "     Gynecological_Findings     Diagnosis  \n",
              "675                     NaN  appendicitis  \n",
              "191                     NaN  appendicitis  \n",
              "633                     NaN  appendicitis  \n",
              "\n",
              "[3 rows x 54 columns]"
            ],
            "text/html": [
              "\n",
              "  <div id=\"df-8f916cb9-9c5e-45e9-a951-9ea1d7ad961a\" class=\"colab-df-container\">\n",
              "    <div>\n",
              "<style scoped>\n",
              "    .dataframe tbody tr th:only-of-type {\n",
              "        vertical-align: middle;\n",
              "    }\n",
              "\n",
              "    .dataframe tbody tr th {\n",
              "        vertical-align: top;\n",
              "    }\n",
              "\n",
              "    .dataframe thead th {\n",
              "        text-align: right;\n",
              "    }\n",
              "</style>\n",
              "<table border=\"1\" class=\"dataframe\">\n",
              "  <thead>\n",
              "    <tr style=\"text-align: right;\">\n",
              "      <th></th>\n",
              "      <th>Age</th>\n",
              "      <th>BMI</th>\n",
              "      <th>Sex</th>\n",
              "      <th>Height</th>\n",
              "      <th>Weight</th>\n",
              "      <th>Length_of_Stay</th>\n",
              "      <th>Alvarado_Score</th>\n",
              "      <th>Paedriatic_Appendicitis_Score</th>\n",
              "      <th>Appendix_on_US</th>\n",
              "      <th>Appendix_Diameter</th>\n",
              "      <th>...</th>\n",
              "      <th>Pathological_Lymph_Nodes</th>\n",
              "      <th>Lymph_Nodes_Location</th>\n",
              "      <th>Bowel_Wall_Thickening</th>\n",
              "      <th>Conglomerate_of_Bowel_Loops</th>\n",
              "      <th>Ileus</th>\n",
              "      <th>Coprostasis</th>\n",
              "      <th>Meteorism</th>\n",
              "      <th>Enteritis</th>\n",
              "      <th>Gynecological_Findings</th>\n",
              "      <th>Diagnosis</th>\n",
              "    </tr>\n",
              "  </thead>\n",
              "  <tbody>\n",
              "    <tr>\n",
              "      <th>675</th>\n",
              "      <td>6.11</td>\n",
              "      <td>14.65</td>\n",
              "      <td>female</td>\n",
              "      <td>128.0</td>\n",
              "      <td>24.0</td>\n",
              "      <td>7.0</td>\n",
              "      <td>8.0</td>\n",
              "      <td>7.0</td>\n",
              "      <td>yes</td>\n",
              "      <td>6.0</td>\n",
              "      <td>...</td>\n",
              "      <td>NaN</td>\n",
              "      <td>NaN</td>\n",
              "      <td>NaN</td>\n",
              "      <td>NaN</td>\n",
              "      <td>NaN</td>\n",
              "      <td>NaN</td>\n",
              "      <td>NaN</td>\n",
              "      <td>NaN</td>\n",
              "      <td>NaN</td>\n",
              "      <td>appendicitis</td>\n",
              "    </tr>\n",
              "    <tr>\n",
              "      <th>191</th>\n",
              "      <td>13.64</td>\n",
              "      <td>21.20</td>\n",
              "      <td>female</td>\n",
              "      <td>158.0</td>\n",
              "      <td>53.0</td>\n",
              "      <td>3.0</td>\n",
              "      <td>5.0</td>\n",
              "      <td>4.0</td>\n",
              "      <td>yes</td>\n",
              "      <td>7.2</td>\n",
              "      <td>...</td>\n",
              "      <td>NaN</td>\n",
              "      <td>NaN</td>\n",
              "      <td>NaN</td>\n",
              "      <td>NaN</td>\n",
              "      <td>NaN</td>\n",
              "      <td>NaN</td>\n",
              "      <td>NaN</td>\n",
              "      <td>NaN</td>\n",
              "      <td>NaN</td>\n",
              "      <td>appendicitis</td>\n",
              "    </tr>\n",
              "    <tr>\n",
              "      <th>633</th>\n",
              "      <td>3.19</td>\n",
              "      <td>13.30</td>\n",
              "      <td>female</td>\n",
              "      <td>95.0</td>\n",
              "      <td>12.0</td>\n",
              "      <td>9.0</td>\n",
              "      <td>6.0</td>\n",
              "      <td>5.0</td>\n",
              "      <td>no</td>\n",
              "      <td>NaN</td>\n",
              "      <td>...</td>\n",
              "      <td>yes</td>\n",
              "      <td>NaN</td>\n",
              "      <td>yes</td>\n",
              "      <td>NaN</td>\n",
              "      <td>NaN</td>\n",
              "      <td>yes</td>\n",
              "      <td>NaN</td>\n",
              "      <td>NaN</td>\n",
              "      <td>NaN</td>\n",
              "      <td>appendicitis</td>\n",
              "    </tr>\n",
              "  </tbody>\n",
              "</table>\n",
              "<p>3 rows × 54 columns</p>\n",
              "</div>\n",
              "    <div class=\"colab-df-buttons\">\n",
              "\n",
              "  <div class=\"colab-df-container\">\n",
              "    <button class=\"colab-df-convert\" onclick=\"convertToInteractive('df-8f916cb9-9c5e-45e9-a951-9ea1d7ad961a')\"\n",
              "            title=\"Convert this dataframe to an interactive table.\"\n",
              "            style=\"display:none;\">\n",
              "\n",
              "  <svg xmlns=\"http://www.w3.org/2000/svg\" height=\"24px\" viewBox=\"0 -960 960 960\">\n",
              "    <path d=\"M120-120v-720h720v720H120Zm60-500h600v-160H180v160Zm220 220h160v-160H400v160Zm0 220h160v-160H400v160ZM180-400h160v-160H180v160Zm440 0h160v-160H620v160ZM180-180h160v-160H180v160Zm440 0h160v-160H620v160Z\"/>\n",
              "  </svg>\n",
              "    </button>\n",
              "\n",
              "  <style>\n",
              "    .colab-df-container {\n",
              "      display:flex;\n",
              "      gap: 12px;\n",
              "    }\n",
              "\n",
              "    .colab-df-convert {\n",
              "      background-color: #E8F0FE;\n",
              "      border: none;\n",
              "      border-radius: 50%;\n",
              "      cursor: pointer;\n",
              "      display: none;\n",
              "      fill: #1967D2;\n",
              "      height: 32px;\n",
              "      padding: 0 0 0 0;\n",
              "      width: 32px;\n",
              "    }\n",
              "\n",
              "    .colab-df-convert:hover {\n",
              "      background-color: #E2EBFA;\n",
              "      box-shadow: 0px 1px 2px rgba(60, 64, 67, 0.3), 0px 1px 3px 1px rgba(60, 64, 67, 0.15);\n",
              "      fill: #174EA6;\n",
              "    }\n",
              "\n",
              "    .colab-df-buttons div {\n",
              "      margin-bottom: 4px;\n",
              "    }\n",
              "\n",
              "    [theme=dark] .colab-df-convert {\n",
              "      background-color: #3B4455;\n",
              "      fill: #D2E3FC;\n",
              "    }\n",
              "\n",
              "    [theme=dark] .colab-df-convert:hover {\n",
              "      background-color: #434B5C;\n",
              "      box-shadow: 0px 1px 3px 1px rgba(0, 0, 0, 0.15);\n",
              "      filter: drop-shadow(0px 1px 2px rgba(0, 0, 0, 0.3));\n",
              "      fill: #FFFFFF;\n",
              "    }\n",
              "  </style>\n",
              "\n",
              "    <script>\n",
              "      const buttonEl =\n",
              "        document.querySelector('#df-8f916cb9-9c5e-45e9-a951-9ea1d7ad961a button.colab-df-convert');\n",
              "      buttonEl.style.display =\n",
              "        google.colab.kernel.accessAllowed ? 'block' : 'none';\n",
              "\n",
              "      async function convertToInteractive(key) {\n",
              "        const element = document.querySelector('#df-8f916cb9-9c5e-45e9-a951-9ea1d7ad961a');\n",
              "        const dataTable =\n",
              "          await google.colab.kernel.invokeFunction('convertToInteractive',\n",
              "                                                    [key], {});\n",
              "        if (!dataTable) return;\n",
              "\n",
              "        const docLinkHtml = 'Like what you see? Visit the ' +\n",
              "          '<a target=\"_blank\" href=https://colab.research.google.com/notebooks/data_table.ipynb>data table notebook</a>'\n",
              "          + ' to learn more about interactive tables.';\n",
              "        element.innerHTML = '';\n",
              "        dataTable['output_type'] = 'display_data';\n",
              "        await google.colab.output.renderOutput(dataTable, element);\n",
              "        const docLink = document.createElement('div');\n",
              "        docLink.innerHTML = docLinkHtml;\n",
              "        element.appendChild(docLink);\n",
              "      }\n",
              "    </script>\n",
              "  </div>\n",
              "\n",
              "\n",
              "<div id=\"df-1a04b498-52cb-41fb-9afb-064fe8afbd52\">\n",
              "  <button class=\"colab-df-quickchart\" onclick=\"quickchart('df-1a04b498-52cb-41fb-9afb-064fe8afbd52')\"\n",
              "            title=\"Suggest charts\"\n",
              "            style=\"display:none;\">\n",
              "\n",
              "<svg xmlns=\"http://www.w3.org/2000/svg\" height=\"24px\"viewBox=\"0 0 24 24\"\n",
              "     width=\"24px\">\n",
              "    <g>\n",
              "        <path d=\"M19 3H5c-1.1 0-2 .9-2 2v14c0 1.1.9 2 2 2h14c1.1 0 2-.9 2-2V5c0-1.1-.9-2-2-2zM9 17H7v-7h2v7zm4 0h-2V7h2v10zm4 0h-2v-4h2v4z\"/>\n",
              "    </g>\n",
              "</svg>\n",
              "  </button>\n",
              "\n",
              "<style>\n",
              "  .colab-df-quickchart {\n",
              "      --bg-color: #E8F0FE;\n",
              "      --fill-color: #1967D2;\n",
              "      --hover-bg-color: #E2EBFA;\n",
              "      --hover-fill-color: #174EA6;\n",
              "      --disabled-fill-color: #AAA;\n",
              "      --disabled-bg-color: #DDD;\n",
              "  }\n",
              "\n",
              "  [theme=dark] .colab-df-quickchart {\n",
              "      --bg-color: #3B4455;\n",
              "      --fill-color: #D2E3FC;\n",
              "      --hover-bg-color: #434B5C;\n",
              "      --hover-fill-color: #FFFFFF;\n",
              "      --disabled-bg-color: #3B4455;\n",
              "      --disabled-fill-color: #666;\n",
              "  }\n",
              "\n",
              "  .colab-df-quickchart {\n",
              "    background-color: var(--bg-color);\n",
              "    border: none;\n",
              "    border-radius: 50%;\n",
              "    cursor: pointer;\n",
              "    display: none;\n",
              "    fill: var(--fill-color);\n",
              "    height: 32px;\n",
              "    padding: 0;\n",
              "    width: 32px;\n",
              "  }\n",
              "\n",
              "  .colab-df-quickchart:hover {\n",
              "    background-color: var(--hover-bg-color);\n",
              "    box-shadow: 0 1px 2px rgba(60, 64, 67, 0.3), 0 1px 3px 1px rgba(60, 64, 67, 0.15);\n",
              "    fill: var(--button-hover-fill-color);\n",
              "  }\n",
              "\n",
              "  .colab-df-quickchart-complete:disabled,\n",
              "  .colab-df-quickchart-complete:disabled:hover {\n",
              "    background-color: var(--disabled-bg-color);\n",
              "    fill: var(--disabled-fill-color);\n",
              "    box-shadow: none;\n",
              "  }\n",
              "\n",
              "  .colab-df-spinner {\n",
              "    border: 2px solid var(--fill-color);\n",
              "    border-color: transparent;\n",
              "    border-bottom-color: var(--fill-color);\n",
              "    animation:\n",
              "      spin 1s steps(1) infinite;\n",
              "  }\n",
              "\n",
              "  @keyframes spin {\n",
              "    0% {\n",
              "      border-color: transparent;\n",
              "      border-bottom-color: var(--fill-color);\n",
              "      border-left-color: var(--fill-color);\n",
              "    }\n",
              "    20% {\n",
              "      border-color: transparent;\n",
              "      border-left-color: var(--fill-color);\n",
              "      border-top-color: var(--fill-color);\n",
              "    }\n",
              "    30% {\n",
              "      border-color: transparent;\n",
              "      border-left-color: var(--fill-color);\n",
              "      border-top-color: var(--fill-color);\n",
              "      border-right-color: var(--fill-color);\n",
              "    }\n",
              "    40% {\n",
              "      border-color: transparent;\n",
              "      border-right-color: var(--fill-color);\n",
              "      border-top-color: var(--fill-color);\n",
              "    }\n",
              "    60% {\n",
              "      border-color: transparent;\n",
              "      border-right-color: var(--fill-color);\n",
              "    }\n",
              "    80% {\n",
              "      border-color: transparent;\n",
              "      border-right-color: var(--fill-color);\n",
              "      border-bottom-color: var(--fill-color);\n",
              "    }\n",
              "    90% {\n",
              "      border-color: transparent;\n",
              "      border-bottom-color: var(--fill-color);\n",
              "    }\n",
              "  }\n",
              "</style>\n",
              "\n",
              "  <script>\n",
              "    async function quickchart(key) {\n",
              "      const quickchartButtonEl =\n",
              "        document.querySelector('#' + key + ' button');\n",
              "      quickchartButtonEl.disabled = true;  // To prevent multiple clicks.\n",
              "      quickchartButtonEl.classList.add('colab-df-spinner');\n",
              "      try {\n",
              "        const charts = await google.colab.kernel.invokeFunction(\n",
              "            'suggestCharts', [key], {});\n",
              "      } catch (error) {\n",
              "        console.error('Error during call to suggestCharts:', error);\n",
              "      }\n",
              "      quickchartButtonEl.classList.remove('colab-df-spinner');\n",
              "      quickchartButtonEl.classList.add('colab-df-quickchart-complete');\n",
              "    }\n",
              "    (() => {\n",
              "      let quickchartButtonEl =\n",
              "        document.querySelector('#df-1a04b498-52cb-41fb-9afb-064fe8afbd52 button');\n",
              "      quickchartButtonEl.style.display =\n",
              "        google.colab.kernel.accessAllowed ? 'block' : 'none';\n",
              "    })();\n",
              "  </script>\n",
              "</div>\n",
              "    </div>\n",
              "  </div>\n"
            ],
            "application/vnd.google.colaboratory.intrinsic+json": {
              "type": "dataframe"
            }
          },
          "metadata": {},
          "execution_count": 12
        }
      ],
      "source": [
        "df.sample(3)"
      ]
    },
    {
      "cell_type": "code",
      "execution_count": null,
      "metadata": {
        "colab": {
          "base_uri": "https://localhost:8080/"
        },
        "id": "WgGhK_DXSogQ",
        "outputId": "769931c5-7e88-4197-8ecf-b91fd752a11d"
      },
      "outputs": [
        {
          "output_type": "execute_result",
          "data": {
            "text/plain": [
              "(780, 54)"
            ]
          },
          "metadata": {},
          "execution_count": 13
        }
      ],
      "source": [
        "df.shape"
      ]
    },
    {
      "cell_type": "code",
      "execution_count": null,
      "metadata": {
        "colab": {
          "base_uri": "https://localhost:8080/"
        },
        "id": "mxRIQKUoSYf_",
        "outputId": "7a2619b8-ae9b-4453-876e-5f58c76a6f91"
      },
      "outputs": [
        {
          "output_type": "stream",
          "name": "stdout",
          "text": [
            "<class 'pandas.core.frame.DataFrame'>\n",
            "Index: 780 entries, 0 to 781\n",
            "Data columns (total 54 columns):\n",
            " #   Column                            Non-Null Count  Dtype  \n",
            "---  ------                            --------------  -----  \n",
            " 0   Age                               780 non-null    float64\n",
            " 1   BMI                               754 non-null    float64\n",
            " 2   Sex                               779 non-null    object \n",
            " 3   Height                            755 non-null    float64\n",
            " 4   Weight                            778 non-null    float64\n",
            " 5   Length_of_Stay                    777 non-null    float64\n",
            " 6   Alvarado_Score                    730 non-null    float64\n",
            " 7   Paedriatic_Appendicitis_Score     730 non-null    float64\n",
            " 8   Appendix_on_US                    777 non-null    object \n",
            " 9   Appendix_Diameter                 498 non-null    float64\n",
            " 10  Migratory_Pain                    773 non-null    object \n",
            " 11  Lower_Right_Abd_Pain              774 non-null    object \n",
            " 12  Contralateral_Rebound_Tenderness  767 non-null    object \n",
            " 13  Coughing_Pain                     766 non-null    object \n",
            " 14  Nausea                            774 non-null    object \n",
            " 15  Loss_of_Appetite                  772 non-null    object \n",
            " 16  Body_Temperature                  775 non-null    float64\n",
            " 17  WBC_Count                         776 non-null    float64\n",
            " 18  Neutrophil_Percentage             679 non-null    float64\n",
            " 19  Segmented_Neutrophils             54 non-null     float64\n",
            " 20  Neutrophilia                      732 non-null    object \n",
            " 21  RBC_Count                         764 non-null    float64\n",
            " 22  Hemoglobin                        764 non-null    float64\n",
            " 23  RDW                               756 non-null    float64\n",
            " 24  Thrombocyte_Count                 764 non-null    float64\n",
            " 25  Ketones_in_Urine                  582 non-null    object \n",
            " 26  RBC_in_Urine                      576 non-null    object \n",
            " 27  WBC_in_Urine                      583 non-null    object \n",
            " 28  CRP                               771 non-null    float64\n",
            " 29  Dysuria                           753 non-null    object \n",
            " 30  Stool                             765 non-null    object \n",
            " 31  Peritonitis                       773 non-null    object \n",
            " 32  Psoas_Sign                        745 non-null    object \n",
            " 33  Ipsilateral_Rebound_Tenderness    619 non-null    object \n",
            " 34  US_Performed                      777 non-null    object \n",
            " 35  Free_Fluids                       719 non-null    object \n",
            " 36  Appendix_Wall_Layers              218 non-null    object \n",
            " 37  Target_Sign                       138 non-null    object \n",
            " 38  Appendicolith                     69 non-null     object \n",
            " 39  Perfusion                         63 non-null     object \n",
            " 40  Perforation                       81 non-null     object \n",
            " 41  Surrounding_Tissue_Reaction       252 non-null    object \n",
            " 42  Appendicular_Abscess              85 non-null     object \n",
            " 43  Abscess_Location                  13 non-null     object \n",
            " 44  Pathological_Lymph_Nodes          203 non-null    object \n",
            " 45  Lymph_Nodes_Location              121 non-null    object \n",
            " 46  Bowel_Wall_Thickening             99 non-null     object \n",
            " 47  Conglomerate_of_Bowel_Loops       43 non-null     object \n",
            " 48  Ileus                             60 non-null     object \n",
            " 49  Coprostasis                       71 non-null     object \n",
            " 50  Meteorism                         140 non-null    object \n",
            " 51  Enteritis                         66 non-null     object \n",
            " 52  Gynecological_Findings            26 non-null     object \n",
            " 53  Diagnosis                         780 non-null    object \n",
            "dtypes: float64(17), object(37)\n",
            "memory usage: 335.2+ KB\n"
          ]
        }
      ],
      "source": [
        "df.info()"
      ]
    },
    {
      "cell_type": "code",
      "execution_count": null,
      "metadata": {
        "colab": {
          "base_uri": "https://localhost:8080/"
        },
        "id": "binqqbHF8MkM",
        "outputId": "d4ca7b51-db24-4f7e-b3af-f5027168ed7e"
      },
      "outputs": [
        {
          "output_type": "stream",
          "name": "stdout",
          "text": [
            "Категориальные признаки: 36\n",
            "Числовые признаки: 17\n"
          ]
        }
      ],
      "source": [
        "target_cols = ['Diagnosis']\n",
        "\n",
        "# определение категориальных признаков\n",
        "categorical_cols = df.select_dtypes(include=['object', 'category']).columns\n",
        "categorical_cols = categorical_cols.drop(['Diagnosis'])\n",
        "\n",
        "# определение числовых признаков\n",
        "numerical_cols = df.select_dtypes(include=['int64', 'float64']).columns\n",
        "\n",
        "print('Категориальные признаки:', len(categorical_cols))\n",
        "print('Числовые признаки:', len(numerical_cols))"
      ]
    },
    {
      "cell_type": "code",
      "execution_count": null,
      "metadata": {
        "colab": {
          "base_uri": "https://localhost:8080/"
        },
        "id": "X7oeunEfKrjQ",
        "outputId": "581cba71-ca8c-4b12-e4d2-c1a5725dd0e3"
      },
      "outputs": [
        {
          "output_type": "execute_result",
          "data": {
            "text/plain": [
              "Index(['Sex', 'Appendix_on_US', 'Migratory_Pain', 'Lower_Right_Abd_Pain',\n",
              "       'Contralateral_Rebound_Tenderness', 'Coughing_Pain', 'Nausea',\n",
              "       'Loss_of_Appetite', 'Neutrophilia', 'Ketones_in_Urine', 'RBC_in_Urine',\n",
              "       'WBC_in_Urine', 'Dysuria', 'Stool', 'Peritonitis', 'Psoas_Sign',\n",
              "       'Ipsilateral_Rebound_Tenderness', 'US_Performed', 'Free_Fluids',\n",
              "       'Appendix_Wall_Layers', 'Target_Sign', 'Appendicolith', 'Perfusion',\n",
              "       'Perforation', 'Surrounding_Tissue_Reaction', 'Appendicular_Abscess',\n",
              "       'Abscess_Location', 'Pathological_Lymph_Nodes', 'Lymph_Nodes_Location',\n",
              "       'Bowel_Wall_Thickening', 'Conglomerate_of_Bowel_Loops', 'Ileus',\n",
              "       'Coprostasis', 'Meteorism', 'Enteritis', 'Gynecological_Findings'],\n",
              "      dtype='object')"
            ]
          },
          "metadata": {},
          "execution_count": 16
        }
      ],
      "source": [
        "categorical_cols"
      ]
    },
    {
      "cell_type": "code",
      "execution_count": null,
      "metadata": {
        "colab": {
          "base_uri": "https://localhost:8080/"
        },
        "id": "f8icptza82Nt",
        "outputId": "e4b7e8c1-36c1-4843-84cf-7605e0f7c1fe"
      },
      "outputs": [
        {
          "output_type": "execute_result",
          "data": {
            "text/plain": [
              "Index(['Age', 'BMI', 'Height', 'Weight', 'Length_of_Stay', 'Alvarado_Score',\n",
              "       'Paedriatic_Appendicitis_Score', 'Appendix_Diameter',\n",
              "       'Body_Temperature', 'WBC_Count', 'Neutrophil_Percentage',\n",
              "       'Segmented_Neutrophils', 'RBC_Count', 'Hemoglobin', 'RDW',\n",
              "       'Thrombocyte_Count', 'CRP'],\n",
              "      dtype='object')"
            ]
          },
          "metadata": {},
          "execution_count": 17
        }
      ],
      "source": [
        "numerical_cols"
      ]
    },
    {
      "cell_type": "markdown",
      "metadata": {
        "id": "6B0ffeAYLeJX"
      },
      "source": [
        "### Пропуски"
      ]
    },
    {
      "cell_type": "code",
      "execution_count": null,
      "metadata": {
        "colab": {
          "base_uri": "https://localhost:8080/"
        },
        "id": "08MnEbF1SsWH",
        "outputId": "d69dc7ce-9a51-448c-f42c-07f85368d043"
      },
      "outputs": [
        {
          "output_type": "execute_result",
          "data": {
            "text/plain": [
              "True"
            ]
          },
          "metadata": {},
          "execution_count": 18
        }
      ],
      "source": [
        "df.isna().any().any()"
      ]
    },
    {
      "cell_type": "code",
      "execution_count": null,
      "metadata": {
        "colab": {
          "base_uri": "https://localhost:8080/",
          "height": 990
        },
        "id": "GyW73Q7gSz7p",
        "outputId": "58901ac1-1833-462b-df24-f51d02607938"
      },
      "outputs": [
        {
          "output_type": "execute_result",
          "data": {
            "text/plain": [
              "                           feature  null_percentage\n",
              "0                 Abscess_Location        98.333333\n",
              "1           Gynecological_Findings        96.666667\n",
              "2      Conglomerate_of_Bowel_Loops        94.487179\n",
              "3            Segmented_Neutrophils        93.076923\n",
              "4                            Ileus        92.307692\n",
              "5                        Perfusion        91.923077\n",
              "6                        Enteritis        91.538462\n",
              "7                    Appendicolith        91.153846\n",
              "8                      Coprostasis        90.897436\n",
              "9                      Perforation        89.615385\n",
              "10            Appendicular_Abscess        89.102564\n",
              "11           Bowel_Wall_Thickening        87.307692\n",
              "12            Lymph_Nodes_Location        84.487179\n",
              "13                     Target_Sign        82.307692\n",
              "14                       Meteorism        82.051282\n",
              "15        Pathological_Lymph_Nodes        73.974359\n",
              "16            Appendix_Wall_Layers        72.051282\n",
              "17     Surrounding_Tissue_Reaction        67.692308\n",
              "18               Appendix_Diameter        36.153846\n",
              "19                    RBC_in_Urine        26.153846\n",
              "20                Ketones_in_Urine        25.384615\n",
              "21                    WBC_in_Urine        25.256410\n",
              "22  Ipsilateral_Rebound_Tenderness        20.641026\n",
              "23           Neutrophil_Percentage        12.948718\n",
              "24                     Free_Fluids         7.820513\n",
              "25                  Alvarado_Score         6.410256\n",
              "26   Paedriatic_Appendicitis_Score         6.410256\n",
              "27                    Neutrophilia         6.153846\n",
              "28                      Psoas_Sign         4.487179\n",
              "29                         Dysuria         3.461538"
            ],
            "text/html": [
              "\n",
              "  <div id=\"df-e76097da-a81f-467b-9ff9-b6e83b9202c5\" class=\"colab-df-container\">\n",
              "    <div>\n",
              "<style scoped>\n",
              "    .dataframe tbody tr th:only-of-type {\n",
              "        vertical-align: middle;\n",
              "    }\n",
              "\n",
              "    .dataframe tbody tr th {\n",
              "        vertical-align: top;\n",
              "    }\n",
              "\n",
              "    .dataframe thead th {\n",
              "        text-align: right;\n",
              "    }\n",
              "</style>\n",
              "<table border=\"1\" class=\"dataframe\">\n",
              "  <thead>\n",
              "    <tr style=\"text-align: right;\">\n",
              "      <th></th>\n",
              "      <th>feature</th>\n",
              "      <th>null_percentage</th>\n",
              "    </tr>\n",
              "  </thead>\n",
              "  <tbody>\n",
              "    <tr>\n",
              "      <th>0</th>\n",
              "      <td>Abscess_Location</td>\n",
              "      <td>98.333333</td>\n",
              "    </tr>\n",
              "    <tr>\n",
              "      <th>1</th>\n",
              "      <td>Gynecological_Findings</td>\n",
              "      <td>96.666667</td>\n",
              "    </tr>\n",
              "    <tr>\n",
              "      <th>2</th>\n",
              "      <td>Conglomerate_of_Bowel_Loops</td>\n",
              "      <td>94.487179</td>\n",
              "    </tr>\n",
              "    <tr>\n",
              "      <th>3</th>\n",
              "      <td>Segmented_Neutrophils</td>\n",
              "      <td>93.076923</td>\n",
              "    </tr>\n",
              "    <tr>\n",
              "      <th>4</th>\n",
              "      <td>Ileus</td>\n",
              "      <td>92.307692</td>\n",
              "    </tr>\n",
              "    <tr>\n",
              "      <th>5</th>\n",
              "      <td>Perfusion</td>\n",
              "      <td>91.923077</td>\n",
              "    </tr>\n",
              "    <tr>\n",
              "      <th>6</th>\n",
              "      <td>Enteritis</td>\n",
              "      <td>91.538462</td>\n",
              "    </tr>\n",
              "    <tr>\n",
              "      <th>7</th>\n",
              "      <td>Appendicolith</td>\n",
              "      <td>91.153846</td>\n",
              "    </tr>\n",
              "    <tr>\n",
              "      <th>8</th>\n",
              "      <td>Coprostasis</td>\n",
              "      <td>90.897436</td>\n",
              "    </tr>\n",
              "    <tr>\n",
              "      <th>9</th>\n",
              "      <td>Perforation</td>\n",
              "      <td>89.615385</td>\n",
              "    </tr>\n",
              "    <tr>\n",
              "      <th>10</th>\n",
              "      <td>Appendicular_Abscess</td>\n",
              "      <td>89.102564</td>\n",
              "    </tr>\n",
              "    <tr>\n",
              "      <th>11</th>\n",
              "      <td>Bowel_Wall_Thickening</td>\n",
              "      <td>87.307692</td>\n",
              "    </tr>\n",
              "    <tr>\n",
              "      <th>12</th>\n",
              "      <td>Lymph_Nodes_Location</td>\n",
              "      <td>84.487179</td>\n",
              "    </tr>\n",
              "    <tr>\n",
              "      <th>13</th>\n",
              "      <td>Target_Sign</td>\n",
              "      <td>82.307692</td>\n",
              "    </tr>\n",
              "    <tr>\n",
              "      <th>14</th>\n",
              "      <td>Meteorism</td>\n",
              "      <td>82.051282</td>\n",
              "    </tr>\n",
              "    <tr>\n",
              "      <th>15</th>\n",
              "      <td>Pathological_Lymph_Nodes</td>\n",
              "      <td>73.974359</td>\n",
              "    </tr>\n",
              "    <tr>\n",
              "      <th>16</th>\n",
              "      <td>Appendix_Wall_Layers</td>\n",
              "      <td>72.051282</td>\n",
              "    </tr>\n",
              "    <tr>\n",
              "      <th>17</th>\n",
              "      <td>Surrounding_Tissue_Reaction</td>\n",
              "      <td>67.692308</td>\n",
              "    </tr>\n",
              "    <tr>\n",
              "      <th>18</th>\n",
              "      <td>Appendix_Diameter</td>\n",
              "      <td>36.153846</td>\n",
              "    </tr>\n",
              "    <tr>\n",
              "      <th>19</th>\n",
              "      <td>RBC_in_Urine</td>\n",
              "      <td>26.153846</td>\n",
              "    </tr>\n",
              "    <tr>\n",
              "      <th>20</th>\n",
              "      <td>Ketones_in_Urine</td>\n",
              "      <td>25.384615</td>\n",
              "    </tr>\n",
              "    <tr>\n",
              "      <th>21</th>\n",
              "      <td>WBC_in_Urine</td>\n",
              "      <td>25.256410</td>\n",
              "    </tr>\n",
              "    <tr>\n",
              "      <th>22</th>\n",
              "      <td>Ipsilateral_Rebound_Tenderness</td>\n",
              "      <td>20.641026</td>\n",
              "    </tr>\n",
              "    <tr>\n",
              "      <th>23</th>\n",
              "      <td>Neutrophil_Percentage</td>\n",
              "      <td>12.948718</td>\n",
              "    </tr>\n",
              "    <tr>\n",
              "      <th>24</th>\n",
              "      <td>Free_Fluids</td>\n",
              "      <td>7.820513</td>\n",
              "    </tr>\n",
              "    <tr>\n",
              "      <th>25</th>\n",
              "      <td>Alvarado_Score</td>\n",
              "      <td>6.410256</td>\n",
              "    </tr>\n",
              "    <tr>\n",
              "      <th>26</th>\n",
              "      <td>Paedriatic_Appendicitis_Score</td>\n",
              "      <td>6.410256</td>\n",
              "    </tr>\n",
              "    <tr>\n",
              "      <th>27</th>\n",
              "      <td>Neutrophilia</td>\n",
              "      <td>6.153846</td>\n",
              "    </tr>\n",
              "    <tr>\n",
              "      <th>28</th>\n",
              "      <td>Psoas_Sign</td>\n",
              "      <td>4.487179</td>\n",
              "    </tr>\n",
              "    <tr>\n",
              "      <th>29</th>\n",
              "      <td>Dysuria</td>\n",
              "      <td>3.461538</td>\n",
              "    </tr>\n",
              "  </tbody>\n",
              "</table>\n",
              "</div>\n",
              "    <div class=\"colab-df-buttons\">\n",
              "\n",
              "  <div class=\"colab-df-container\">\n",
              "    <button class=\"colab-df-convert\" onclick=\"convertToInteractive('df-e76097da-a81f-467b-9ff9-b6e83b9202c5')\"\n",
              "            title=\"Convert this dataframe to an interactive table.\"\n",
              "            style=\"display:none;\">\n",
              "\n",
              "  <svg xmlns=\"http://www.w3.org/2000/svg\" height=\"24px\" viewBox=\"0 -960 960 960\">\n",
              "    <path d=\"M120-120v-720h720v720H120Zm60-500h600v-160H180v160Zm220 220h160v-160H400v160Zm0 220h160v-160H400v160ZM180-400h160v-160H180v160Zm440 0h160v-160H620v160ZM180-180h160v-160H180v160Zm440 0h160v-160H620v160Z\"/>\n",
              "  </svg>\n",
              "    </button>\n",
              "\n",
              "  <style>\n",
              "    .colab-df-container {\n",
              "      display:flex;\n",
              "      gap: 12px;\n",
              "    }\n",
              "\n",
              "    .colab-df-convert {\n",
              "      background-color: #E8F0FE;\n",
              "      border: none;\n",
              "      border-radius: 50%;\n",
              "      cursor: pointer;\n",
              "      display: none;\n",
              "      fill: #1967D2;\n",
              "      height: 32px;\n",
              "      padding: 0 0 0 0;\n",
              "      width: 32px;\n",
              "    }\n",
              "\n",
              "    .colab-df-convert:hover {\n",
              "      background-color: #E2EBFA;\n",
              "      box-shadow: 0px 1px 2px rgba(60, 64, 67, 0.3), 0px 1px 3px 1px rgba(60, 64, 67, 0.15);\n",
              "      fill: #174EA6;\n",
              "    }\n",
              "\n",
              "    .colab-df-buttons div {\n",
              "      margin-bottom: 4px;\n",
              "    }\n",
              "\n",
              "    [theme=dark] .colab-df-convert {\n",
              "      background-color: #3B4455;\n",
              "      fill: #D2E3FC;\n",
              "    }\n",
              "\n",
              "    [theme=dark] .colab-df-convert:hover {\n",
              "      background-color: #434B5C;\n",
              "      box-shadow: 0px 1px 3px 1px rgba(0, 0, 0, 0.15);\n",
              "      filter: drop-shadow(0px 1px 2px rgba(0, 0, 0, 0.3));\n",
              "      fill: #FFFFFF;\n",
              "    }\n",
              "  </style>\n",
              "\n",
              "    <script>\n",
              "      const buttonEl =\n",
              "        document.querySelector('#df-e76097da-a81f-467b-9ff9-b6e83b9202c5 button.colab-df-convert');\n",
              "      buttonEl.style.display =\n",
              "        google.colab.kernel.accessAllowed ? 'block' : 'none';\n",
              "\n",
              "      async function convertToInteractive(key) {\n",
              "        const element = document.querySelector('#df-e76097da-a81f-467b-9ff9-b6e83b9202c5');\n",
              "        const dataTable =\n",
              "          await google.colab.kernel.invokeFunction('convertToInteractive',\n",
              "                                                    [key], {});\n",
              "        if (!dataTable) return;\n",
              "\n",
              "        const docLinkHtml = 'Like what you see? Visit the ' +\n",
              "          '<a target=\"_blank\" href=https://colab.research.google.com/notebooks/data_table.ipynb>data table notebook</a>'\n",
              "          + ' to learn more about interactive tables.';\n",
              "        element.innerHTML = '';\n",
              "        dataTable['output_type'] = 'display_data';\n",
              "        await google.colab.output.renderOutput(dataTable, element);\n",
              "        const docLink = document.createElement('div');\n",
              "        docLink.innerHTML = docLinkHtml;\n",
              "        element.appendChild(docLink);\n",
              "      }\n",
              "    </script>\n",
              "  </div>\n",
              "\n",
              "\n",
              "<div id=\"df-a28392ba-fd67-4402-90d3-1ccf1e0ae495\">\n",
              "  <button class=\"colab-df-quickchart\" onclick=\"quickchart('df-a28392ba-fd67-4402-90d3-1ccf1e0ae495')\"\n",
              "            title=\"Suggest charts\"\n",
              "            style=\"display:none;\">\n",
              "\n",
              "<svg xmlns=\"http://www.w3.org/2000/svg\" height=\"24px\"viewBox=\"0 0 24 24\"\n",
              "     width=\"24px\">\n",
              "    <g>\n",
              "        <path d=\"M19 3H5c-1.1 0-2 .9-2 2v14c0 1.1.9 2 2 2h14c1.1 0 2-.9 2-2V5c0-1.1-.9-2-2-2zM9 17H7v-7h2v7zm4 0h-2V7h2v10zm4 0h-2v-4h2v4z\"/>\n",
              "    </g>\n",
              "</svg>\n",
              "  </button>\n",
              "\n",
              "<style>\n",
              "  .colab-df-quickchart {\n",
              "      --bg-color: #E8F0FE;\n",
              "      --fill-color: #1967D2;\n",
              "      --hover-bg-color: #E2EBFA;\n",
              "      --hover-fill-color: #174EA6;\n",
              "      --disabled-fill-color: #AAA;\n",
              "      --disabled-bg-color: #DDD;\n",
              "  }\n",
              "\n",
              "  [theme=dark] .colab-df-quickchart {\n",
              "      --bg-color: #3B4455;\n",
              "      --fill-color: #D2E3FC;\n",
              "      --hover-bg-color: #434B5C;\n",
              "      --hover-fill-color: #FFFFFF;\n",
              "      --disabled-bg-color: #3B4455;\n",
              "      --disabled-fill-color: #666;\n",
              "  }\n",
              "\n",
              "  .colab-df-quickchart {\n",
              "    background-color: var(--bg-color);\n",
              "    border: none;\n",
              "    border-radius: 50%;\n",
              "    cursor: pointer;\n",
              "    display: none;\n",
              "    fill: var(--fill-color);\n",
              "    height: 32px;\n",
              "    padding: 0;\n",
              "    width: 32px;\n",
              "  }\n",
              "\n",
              "  .colab-df-quickchart:hover {\n",
              "    background-color: var(--hover-bg-color);\n",
              "    box-shadow: 0 1px 2px rgba(60, 64, 67, 0.3), 0 1px 3px 1px rgba(60, 64, 67, 0.15);\n",
              "    fill: var(--button-hover-fill-color);\n",
              "  }\n",
              "\n",
              "  .colab-df-quickchart-complete:disabled,\n",
              "  .colab-df-quickchart-complete:disabled:hover {\n",
              "    background-color: var(--disabled-bg-color);\n",
              "    fill: var(--disabled-fill-color);\n",
              "    box-shadow: none;\n",
              "  }\n",
              "\n",
              "  .colab-df-spinner {\n",
              "    border: 2px solid var(--fill-color);\n",
              "    border-color: transparent;\n",
              "    border-bottom-color: var(--fill-color);\n",
              "    animation:\n",
              "      spin 1s steps(1) infinite;\n",
              "  }\n",
              "\n",
              "  @keyframes spin {\n",
              "    0% {\n",
              "      border-color: transparent;\n",
              "      border-bottom-color: var(--fill-color);\n",
              "      border-left-color: var(--fill-color);\n",
              "    }\n",
              "    20% {\n",
              "      border-color: transparent;\n",
              "      border-left-color: var(--fill-color);\n",
              "      border-top-color: var(--fill-color);\n",
              "    }\n",
              "    30% {\n",
              "      border-color: transparent;\n",
              "      border-left-color: var(--fill-color);\n",
              "      border-top-color: var(--fill-color);\n",
              "      border-right-color: var(--fill-color);\n",
              "    }\n",
              "    40% {\n",
              "      border-color: transparent;\n",
              "      border-right-color: var(--fill-color);\n",
              "      border-top-color: var(--fill-color);\n",
              "    }\n",
              "    60% {\n",
              "      border-color: transparent;\n",
              "      border-right-color: var(--fill-color);\n",
              "    }\n",
              "    80% {\n",
              "      border-color: transparent;\n",
              "      border-right-color: var(--fill-color);\n",
              "      border-bottom-color: var(--fill-color);\n",
              "    }\n",
              "    90% {\n",
              "      border-color: transparent;\n",
              "      border-bottom-color: var(--fill-color);\n",
              "    }\n",
              "  }\n",
              "</style>\n",
              "\n",
              "  <script>\n",
              "    async function quickchart(key) {\n",
              "      const quickchartButtonEl =\n",
              "        document.querySelector('#' + key + ' button');\n",
              "      quickchartButtonEl.disabled = true;  // To prevent multiple clicks.\n",
              "      quickchartButtonEl.classList.add('colab-df-spinner');\n",
              "      try {\n",
              "        const charts = await google.colab.kernel.invokeFunction(\n",
              "            'suggestCharts', [key], {});\n",
              "      } catch (error) {\n",
              "        console.error('Error during call to suggestCharts:', error);\n",
              "      }\n",
              "      quickchartButtonEl.classList.remove('colab-df-spinner');\n",
              "      quickchartButtonEl.classList.add('colab-df-quickchart-complete');\n",
              "    }\n",
              "    (() => {\n",
              "      let quickchartButtonEl =\n",
              "        document.querySelector('#df-a28392ba-fd67-4402-90d3-1ccf1e0ae495 button');\n",
              "      quickchartButtonEl.style.display =\n",
              "        google.colab.kernel.accessAllowed ? 'block' : 'none';\n",
              "    })();\n",
              "  </script>\n",
              "</div>\n",
              "    </div>\n",
              "  </div>\n"
            ],
            "application/vnd.google.colaboratory.intrinsic+json": {
              "type": "dataframe",
              "variable_name": "null",
              "summary": "{\n  \"name\": \"null\",\n  \"rows\": 54,\n  \"fields\": [\n    {\n      \"column\": \"feature\",\n      \"properties\": {\n        \"dtype\": \"string\",\n        \"num_unique_values\": 54,\n        \"samples\": [\n          \"RBC_in_Urine\",\n          \"Length_of_Stay\",\n          \"US_Performed\"\n        ],\n        \"semantic_type\": \"\",\n        \"description\": \"\"\n      }\n    },\n    {\n      \"column\": \"null_percentage\",\n      \"properties\": {\n        \"dtype\": \"number\",\n        \"std\": 39.69250440198662,\n        \"min\": 0.0,\n        \"max\": 98.33333333333333,\n        \"num_unique_values\": 46,\n        \"samples\": [\n          0.7692307692307693,\n          6.41025641025641,\n          6.153846153846154\n        ],\n        \"semantic_type\": \"\",\n        \"description\": \"\"\n      }\n    }\n  ]\n}"
            }
          },
          "metadata": {},
          "execution_count": 19
        }
      ],
      "source": [
        "null = (df.isna().sum() / len(df)) * 100\n",
        "null = pd.DataFrame({'feature':null.index, 'null_percentage':null}) \\\n",
        "                    .sort_values(by='null_percentage', ascending=False) \\\n",
        "                    .reset_index(drop=True)\n",
        "null.head(30)"
      ]
    },
    {
      "cell_type": "markdown",
      "metadata": {
        "id": "YPlgWzkPTSKI"
      },
      "source": [
        "Честно говоря, заполнение столбцов с большим количеством пропусков, мне кажется, каким-то совсем подстраиванием. Удалим признаки, где процент пропусков больше 90 %."
      ]
    },
    {
      "cell_type": "code",
      "execution_count": null,
      "metadata": {
        "colab": {
          "base_uri": "https://localhost:8080/"
        },
        "id": "tpkLybqmTTsm",
        "outputId": "93ef895c-76d5-4e1d-e3c2-5557fb0daee2"
      },
      "outputs": [
        {
          "output_type": "execute_result",
          "data": {
            "text/plain": [
              "['Segmented_Neutrophils',\n",
              " 'Appendicolith',\n",
              " 'Perfusion',\n",
              " 'Abscess_Location',\n",
              " 'Conglomerate_of_Bowel_Loops',\n",
              " 'Ileus',\n",
              " 'Coprostasis',\n",
              " 'Enteritis',\n",
              " 'Gynecological_Findings']"
            ]
          },
          "metadata": {},
          "execution_count": 20
        }
      ],
      "source": [
        "df_cols = df.columns\n",
        "drop_cols = []\n",
        "for col in df_cols:\n",
        "    if ((df[col].isna().sum()/len(df) )*100) > 90:\n",
        "      drop_cols.append(col)\n",
        "drop_cols"
      ]
    },
    {
      "cell_type": "code",
      "execution_count": null,
      "metadata": {
        "colab": {
          "base_uri": "https://localhost:8080/"
        },
        "id": "Y77So2p1TaPm",
        "outputId": "82acb5c1-799e-4c09-ec11-009ddfae8d9c"
      },
      "outputs": [
        {
          "output_type": "execute_result",
          "data": {
            "text/plain": [
              "(780, 45)"
            ]
          },
          "metadata": {},
          "execution_count": 21
        }
      ],
      "source": [
        "df = df.drop(drop_cols, axis = 1)\n",
        "df.shape"
      ]
    },
    {
      "cell_type": "markdown",
      "metadata": {
        "id": "noh23qiJk_jY"
      },
      "source": [
        "Оставшиеся пропуски заполним многовариантным восстановлением признаков IterativeImputer. Т.е. предскажем значения для каждого столбца исходя из оставшихся признаков. Тем самым мы в теории должны учесть различные факторы, которые могли влиять на наш столбец.\n",
        "Здесь я исключил только целевую переменную из рассмотрения."
      ]
    },
    {
      "cell_type": "code",
      "execution_count": null,
      "metadata": {
        "colab": {
          "base_uri": "https://localhost:8080/"
        },
        "id": "oi9qFhhvYO-w",
        "outputId": "88a4349c-e23c-4460-a93a-d6f4b69bf8e9"
      },
      "outputs": [
        {
          "output_type": "stream",
          "name": "stdout",
          "text": [
            "[IterativeImputer] Completing matrix with shape (780, 110)\n",
            "[IterativeImputer] Change: 179.11804741810684, scaled tolerance: 0.708 \n",
            "[IterativeImputer] Change: 18.676698543070344, scaled tolerance: 0.708 \n",
            "[IterativeImputer] Change: 8.8687482081036, scaled tolerance: 0.708 \n",
            "[IterativeImputer] Change: 5.892650880098557, scaled tolerance: 0.708 \n",
            "[IterativeImputer] Change: 3.9162656476967648, scaled tolerance: 0.708 \n",
            "[IterativeImputer] Change: 2.9831342633046702, scaled tolerance: 0.708 \n",
            "[IterativeImputer] Change: 2.6710397840551146, scaled tolerance: 0.708 \n",
            "[IterativeImputer] Change: 2.404313910151412, scaled tolerance: 0.708 \n",
            "[IterativeImputer] Change: 2.174160398742658, scaled tolerance: 0.708 \n",
            "[IterativeImputer] Change: 1.973691208757291, scaled tolerance: 0.708 \n"
          ]
        },
        {
          "output_type": "execute_result",
          "data": {
            "text/plain": [
              "False"
            ]
          },
          "metadata": {},
          "execution_count": 22
        }
      ],
      "source": [
        "# определяем категориальные и числовые колонки\n",
        "categorical_cols = df.select_dtypes(include=['object', 'category']).columns\n",
        "categorical_cols = categorical_cols.drop(['Diagnosis'])\n",
        "numerical_cols = df.select_dtypes(include=['int64', 'float64']).columns\n",
        "\n",
        "# преобразуем категориальные колонки в числовые с помощью one-hot encoding\n",
        "df_cat = pd.get_dummies(df[categorical_cols])\n",
        "df_num = df[numerical_cols]\n",
        "df_impute = pd.concat([df_cat, df_num], axis=1)\n",
        "\n",
        "df_imputed = IterativeImputer(verbose=True).fit_transform(df_impute)\n",
        "\n",
        "df_imputed = pd.DataFrame(df_imputed, columns=df_impute.columns)\n",
        "df_imputed.isna().any().any()"
      ]
    },
    {
      "cell_type": "code",
      "execution_count": null,
      "metadata": {
        "colab": {
          "base_uri": "https://localhost:8080/"
        },
        "id": "eXvHh_LpbCcY",
        "outputId": "0be715d7-2074-41da-86dd-e8ae68e335ba"
      },
      "outputs": [
        {
          "output_type": "execute_result",
          "data": {
            "text/plain": [
              "False"
            ]
          },
          "metadata": {},
          "execution_count": 23
        }
      ],
      "source": [
        "df_imputed = pd.DataFrame(df_imputed, columns=df_impute.columns)\n",
        "df_imputed.isna().any().any()"
      ]
    },
    {
      "cell_type": "markdown",
      "source": [
        "### Распределения признаков"
      ],
      "metadata": {
        "id": "8B9zXQpv5UAt"
      }
    },
    {
      "cell_type": "code",
      "source": [
        "# df.hist(figsize=(20,8), layout=(-1,7), bins=20, edgecolor='w');"
      ],
      "metadata": {
        "id": "90mv8WX0-LZV"
      },
      "execution_count": null,
      "outputs": []
    },
    {
      "cell_type": "code",
      "source": [
        "df_imputed[numerical_cols].hist(figsize=(20,8), layout=(-1,7), bins=20, edgecolor='w');"
      ],
      "metadata": {
        "colab": {
          "base_uri": "https://localhost:8080/",
          "height": 475
        },
        "id": "qwUXaEiP-mL0",
        "outputId": "4e3c95fc-451e-44db-a17d-0aa32162e288"
      },
      "execution_count": null,
      "outputs": [
        {
          "output_type": "display_data",
          "data": {
            "text/plain": [
              "<Figure size 2000x800 with 21 Axes>"
            ],
            "image/png": "[encoded data removed]"
          },
          "metadata": {}
        }
      ]
    },
    {
      "cell_type": "code",
      "source": [
        "df_imputed.describe()"
      ],
      "metadata": {
        "colab": {
          "base_uri": "https://localhost:8080/",
          "height": 350
        },
        "id": "GGeIV62-qT63",
        "outputId": "6f54d6f7-6d3c-42a8-e5a1-3f31b75e554f"
      },
      "execution_count": null,
      "outputs": [
        {
          "output_type": "execute_result",
          "data": {
            "text/plain": [
              "       Sex_female    Sex_male  Appendix_on_US_no  Appendix_on_US_yes  \\\n",
              "count  780.000000  780.000000         780.000000          780.000000   \n",
              "mean     0.482051    0.516667           0.350000            0.646154   \n",
              "std      0.499998    0.500043           0.477276            0.478469   \n",
              "min      0.000000    0.000000           0.000000            0.000000   \n",
              "25%      0.000000    0.000000           0.000000            0.000000   \n",
              "50%      0.000000    1.000000           0.000000            1.000000   \n",
              "75%      1.000000    1.000000           1.000000            1.000000   \n",
              "max      1.000000    1.000000           1.000000            1.000000   \n",
              "\n",
              "       Migratory_Pain_no  Migratory_Pain_yes  Lower_Right_Abd_Pain_no  \\\n",
              "count         780.000000          780.000000               780.000000   \n",
              "mean            0.720513            0.270513                 0.052564   \n",
              "std             0.449035            0.444510                 0.223305   \n",
              "min             0.000000            0.000000                 0.000000   \n",
              "25%             0.000000            0.000000                 0.000000   \n",
              "50%             1.000000            0.000000                 0.000000   \n",
              "75%             1.000000            1.000000                 0.000000   \n",
              "max             1.000000            1.000000                 1.000000   \n",
              "\n",
              "       Lower_Right_Abd_Pain_yes  Contralateral_Rebound_Tenderness_no  \\\n",
              "count                780.000000                           780.000000   \n",
              "mean                   0.939744                             0.601282   \n",
              "std                    0.238114                             0.489949   \n",
              "min                    0.000000                             0.000000   \n",
              "25%                    1.000000                             0.000000   \n",
              "50%                    1.000000                             1.000000   \n",
              "75%                    1.000000                             1.000000   \n",
              "max                    1.000000                             1.000000   \n",
              "\n",
              "       Contralateral_Rebound_Tenderness_yes  ...  \\\n",
              "count                            780.000000  ...   \n",
              "mean                               0.382051  ...   \n",
              "std                                0.486201  ...   \n",
              "min                                0.000000  ...   \n",
              "25%                                0.000000  ...   \n",
              "50%                                0.000000  ...   \n",
              "75%                                1.000000  ...   \n",
              "max                                1.000000  ...   \n",
              "\n",
              "       Paedriatic_Appendicitis_Score  Appendix_Diameter  Body_Temperature  \\\n",
              "count                     780.000000         780.000000        780.000000   \n",
              "mean                        5.255212           7.559260         37.401966   \n",
              "std                         1.944528           2.178963          0.901517   \n",
              "min                         0.000000           2.700000         26.900000   \n",
              "25%                         4.000000           6.000000         36.800000   \n",
              "50%                         5.000000           7.125598         37.200000   \n",
              "75%                         6.466136           9.000000         37.900000   \n",
              "max                        10.000000          17.000000         40.200000   \n",
              "\n",
              "        WBC_Count  Neutrophil_Percentage   RBC_Count  Hemoglobin         RDW  \\\n",
              "count  780.000000             780.000000  780.000000  780.000000  780.000000   \n",
              "mean    12.678553              71.496957    4.798379   13.377995   13.187177   \n",
              "std      5.355516              13.931130    0.494387    1.380628    4.472294   \n",
              "min      2.600000              27.200000    3.620000    8.200000   11.200000   \n",
              "25%      8.275000              61.500000    4.540000   12.672454   12.300000   \n",
              "50%     12.000000              74.300000    4.780000   13.300000   12.800000   \n",
              "75%     16.200000              83.095794    5.010000   14.000000   13.300000   \n",
              "max     37.700000              97.700000   14.000000   36.000000   86.900000   \n",
              "\n",
              "       Thrombocyte_Count         CRP  \n",
              "count         780.000000  780.000000  \n",
              "mean          285.471991   31.854917  \n",
              "std            71.911277   57.606902  \n",
              "min            91.000000  -15.181448  \n",
              "25%           236.000000    1.000000  \n",
              "50%           277.000000    7.000000  \n",
              "75%           330.000000   34.000000  \n",
              "max           708.000000  365.000000  \n",
              "\n",
              "[8 rows x 110 columns]"
            ],
            "text/html": [
              "\n",
              "  <div id=\"df-592b47a7-d86e-4347-90e9-338709fe0f70\" class=\"colab-df-container\">\n",
              "    <div>\n",
              "<style scoped>\n",
              "    .dataframe tbody tr th:only-of-type {\n",
              "        vertical-align: middle;\n",
              "    }\n",
              "\n",
              "    .dataframe tbody tr th {\n",
              "        vertical-align: top;\n",
              "    }\n",
              "\n",
              "    .dataframe thead th {\n",
              "        text-align: right;\n",
              "    }\n",
              "</style>\n",
              "<table border=\"1\" class=\"dataframe\">\n",
              "  <thead>\n",
              "    <tr style=\"text-align: right;\">\n",
              "      <th></th>\n",
              "      <th>Sex_female</th>\n",
              "      <th>Sex_male</th>\n",
              "      <th>Appendix_on_US_no</th>\n",
              "      <th>Appendix_on_US_yes</th>\n",
              "      <th>Migratory_Pain_no</th>\n",
              "      <th>Migratory_Pain_yes</th>\n",
              "      <th>Lower_Right_Abd_Pain_no</th>\n",
              "      <th>Lower_Right_Abd_Pain_yes</th>\n",
              "      <th>Contralateral_Rebound_Tenderness_no</th>\n",
              "      <th>Contralateral_Rebound_Tenderness_yes</th>\n",
              "      <th>...</th>\n",
              "      <th>Paedriatic_Appendicitis_Score</th>\n",
              "      <th>Appendix_Diameter</th>\n",
              "      <th>Body_Temperature</th>\n",
              "      <th>WBC_Count</th>\n",
              "      <th>Neutrophil_Percentage</th>\n",
              "      <th>RBC_Count</th>\n",
              "      <th>Hemoglobin</th>\n",
              "      <th>RDW</th>\n",
              "      <th>Thrombocyte_Count</th>\n",
              "      <th>CRP</th>\n",
              "    </tr>\n",
              "  </thead>\n",
              "  <tbody>\n",
              "    <tr>\n",
              "      <th>count</th>\n",
              "      <td>780.000000</td>\n",
              "      <td>780.000000</td>\n",
              "      <td>780.000000</td>\n",
              "      <td>780.000000</td>\n",
              "      <td>780.000000</td>\n",
              "      <td>780.000000</td>\n",
              "      <td>780.000000</td>\n",
              "      <td>780.000000</td>\n",
              "      <td>780.000000</td>\n",
              "      <td>780.000000</td>\n",
              "      <td>...</td>\n",
              "      <td>780.000000</td>\n",
              "      <td>780.000000</td>\n",
              "      <td>780.000000</td>\n",
              "      <td>780.000000</td>\n",
              "      <td>780.000000</td>\n",
              "      <td>780.000000</td>\n",
              "      <td>780.000000</td>\n",
              "      <td>780.000000</td>\n",
              "      <td>780.000000</td>\n",
              "      <td>780.000000</td>\n",
              "    </tr>\n",
              "    <tr>\n",
              "      <th>mean</th>\n",
              "      <td>0.482051</td>\n",
              "      <td>0.516667</td>\n",
              "      <td>0.350000</td>\n",
              "      <td>0.646154</td>\n",
              "      <td>0.720513</td>\n",
              "      <td>0.270513</td>\n",
              "      <td>0.052564</td>\n",
              "      <td>0.939744</td>\n",
              "      <td>0.601282</td>\n",
              "      <td>0.382051</td>\n",
              "      <td>...</td>\n",
              "      <td>5.255212</td>\n",
              "      <td>7.559260</td>\n",
              "      <td>37.401966</td>\n",
              "      <td>12.678553</td>\n",
              "      <td>71.496957</td>\n",
              "      <td>4.798379</td>\n",
              "      <td>13.377995</td>\n",
              "      <td>13.187177</td>\n",
              "      <td>285.471991</td>\n",
              "      <td>31.854917</td>\n",
              "    </tr>\n",
              "    <tr>\n",
              "      <th>std</th>\n",
              "      <td>0.499998</td>\n",
              "      <td>0.500043</td>\n",
              "      <td>0.477276</td>\n",
              "      <td>0.478469</td>\n",
              "      <td>0.449035</td>\n",
              "      <td>0.444510</td>\n",
              "      <td>0.223305</td>\n",
              "      <td>0.238114</td>\n",
              "      <td>0.489949</td>\n",
              "      <td>0.486201</td>\n",
              "      <td>...</td>\n",
              "      <td>1.944528</td>\n",
              "      <td>2.178963</td>\n",
              "      <td>0.901517</td>\n",
              "      <td>5.355516</td>\n",
              "      <td>13.931130</td>\n",
              "      <td>0.494387</td>\n",
              "      <td>1.380628</td>\n",
              "      <td>4.472294</td>\n",
              "      <td>71.911277</td>\n",
              "      <td>57.606902</td>\n",
              "    </tr>\n",
              "    <tr>\n",
              "      <th>min</th>\n",
              "      <td>0.000000</td>\n",
              "      <td>0.000000</td>\n",
              "      <td>0.000000</td>\n",
              "      <td>0.000000</td>\n",
              "      <td>0.000000</td>\n",
              "      <td>0.000000</td>\n",
              "      <td>0.000000</td>\n",
              "      <td>0.000000</td>\n",
              "      <td>0.000000</td>\n",
              "      <td>0.000000</td>\n",
              "      <td>...</td>\n",
              "      <td>0.000000</td>\n",
              "      <td>2.700000</td>\n",
              "      <td>26.900000</td>\n",
              "      <td>2.600000</td>\n",
              "      <td>27.200000</td>\n",
              "      <td>3.620000</td>\n",
              "      <td>8.200000</td>\n",
              "      <td>11.200000</td>\n",
              "      <td>91.000000</td>\n",
              "      <td>-15.181448</td>\n",
              "    </tr>\n",
              "    <tr>\n",
              "      <th>25%</th>\n",
              "      <td>0.000000</td>\n",
              "      <td>0.000000</td>\n",
              "      <td>0.000000</td>\n",
              "      <td>0.000000</td>\n",
              "      <td>0.000000</td>\n",
              "      <td>0.000000</td>\n",
              "      <td>0.000000</td>\n",
              "      <td>1.000000</td>\n",
              "      <td>0.000000</td>\n",
              "      <td>0.000000</td>\n",
              "      <td>...</td>\n",
              "      <td>4.000000</td>\n",
              "      <td>6.000000</td>\n",
              "      <td>36.800000</td>\n",
              "      <td>8.275000</td>\n",
              "      <td>61.500000</td>\n",
              "      <td>4.540000</td>\n",
              "      <td>12.672454</td>\n",
              "      <td>12.300000</td>\n",
              "      <td>236.000000</td>\n",
              "      <td>1.000000</td>\n",
              "    </tr>\n",
              "    <tr>\n",
              "      <th>50%</th>\n",
              "      <td>0.000000</td>\n",
              "      <td>1.000000</td>\n",
              "      <td>0.000000</td>\n",
              "      <td>1.000000</td>\n",
              "      <td>1.000000</td>\n",
              "      <td>0.000000</td>\n",
              "      <td>0.000000</td>\n",
              "      <td>1.000000</td>\n",
              "      <td>1.000000</td>\n",
              "      <td>0.000000</td>\n",
              "      <td>...</td>\n",
              "      <td>5.000000</td>\n",
              "      <td>7.125598</td>\n",
              "      <td>37.200000</td>\n",
              "      <td>12.000000</td>\n",
              "      <td>74.300000</td>\n",
              "      <td>4.780000</td>\n",
              "      <td>13.300000</td>\n",
              "      <td>12.800000</td>\n",
              "      <td>277.000000</td>\n",
              "      <td>7.000000</td>\n",
              "    </tr>\n",
              "    <tr>\n",
              "      <th>75%</th>\n",
              "      <td>1.000000</td>\n",
              "      <td>1.000000</td>\n",
              "      <td>1.000000</td>\n",
              "      <td>1.000000</td>\n",
              "      <td>1.000000</td>\n",
              "      <td>1.000000</td>\n",
              "      <td>0.000000</td>\n",
              "      <td>1.000000</td>\n",
              "      <td>1.000000</td>\n",
              "      <td>1.000000</td>\n",
              "      <td>...</td>\n",
              "      <td>6.466136</td>\n",
              "      <td>9.000000</td>\n",
              "      <td>37.900000</td>\n",
              "      <td>16.200000</td>\n",
              "      <td>83.095794</td>\n",
              "      <td>5.010000</td>\n",
              "      <td>14.000000</td>\n",
              "      <td>13.300000</td>\n",
              "      <td>330.000000</td>\n",
              "      <td>34.000000</td>\n",
              "    </tr>\n",
              "    <tr>\n",
              "      <th>max</th>\n",
              "      <td>1.000000</td>\n",
              "      <td>1.000000</td>\n",
              "      <td>1.000000</td>\n",
              "      <td>1.000000</td>\n",
              "      <td>1.000000</td>\n",
              "      <td>1.000000</td>\n",
              "      <td>1.000000</td>\n",
              "      <td>1.000000</td>\n",
              "      <td>1.000000</td>\n",
              "      <td>1.000000</td>\n",
              "      <td>...</td>\n",
              "      <td>10.000000</td>\n",
              "      <td>17.000000</td>\n",
              "      <td>40.200000</td>\n",
              "      <td>37.700000</td>\n",
              "      <td>97.700000</td>\n",
              "      <td>14.000000</td>\n",
              "      <td>36.000000</td>\n",
              "      <td>86.900000</td>\n",
              "      <td>708.000000</td>\n",
              "      <td>365.000000</td>\n",
              "    </tr>\n",
              "  </tbody>\n",
              "</table>\n",
              "<p>8 rows × 110 columns</p>\n",
              "</div>\n",
              "    <div class=\"colab-df-buttons\">\n",
              "\n",
              "  <div class=\"colab-df-container\">\n",
              "    <button class=\"colab-df-convert\" onclick=\"convertToInteractive('df-592b47a7-d86e-4347-90e9-338709fe0f70')\"\n",
              "            title=\"Convert this dataframe to an interactive table.\"\n",
              "            style=\"display:none;\">\n",
              "\n",
              "  <svg xmlns=\"http://www.w3.org/2000/svg\" height=\"24px\" viewBox=\"0 -960 960 960\">\n",
              "    <path d=\"M120-120v-720h720v720H120Zm60-500h600v-160H180v160Zm220 220h160v-160H400v160Zm0 220h160v-160H400v160ZM180-400h160v-160H180v160Zm440 0h160v-160H620v160ZM180-180h160v-160H180v160Zm440 0h160v-160H620v160Z\"/>\n",
              "  </svg>\n",
              "    </button>\n",
              "\n",
              "  <style>\n",
              "    .colab-df-container {\n",
              "      display:flex;\n",
              "      gap: 12px;\n",
              "    }\n",
              "\n",
              "    .colab-df-convert {\n",
              "      background-color: #E8F0FE;\n",
              "      border: none;\n",
              "      border-radius: 50%;\n",
              "      cursor: pointer;\n",
              "      display: none;\n",
              "      fill: #1967D2;\n",
              "      height: 32px;\n",
              "      padding: 0 0 0 0;\n",
              "      width: 32px;\n",
              "    }\n",
              "\n",
              "    .colab-df-convert:hover {\n",
              "      background-color: #E2EBFA;\n",
              "      box-shadow: 0px 1px 2px rgba(60, 64, 67, 0.3), 0px 1px 3px 1px rgba(60, 64, 67, 0.15);\n",
              "      fill: #174EA6;\n",
              "    }\n",
              "\n",
              "    .colab-df-buttons div {\n",
              "      margin-bottom: 4px;\n",
              "    }\n",
              "\n",
              "    [theme=dark] .colab-df-convert {\n",
              "      background-color: #3B4455;\n",
              "      fill: #D2E3FC;\n",
              "    }\n",
              "\n",
              "    [theme=dark] .colab-df-convert:hover {\n",
              "      background-color: #434B5C;\n",
              "      box-shadow: 0px 1px 3px 1px rgba(0, 0, 0, 0.15);\n",
              "      filter: drop-shadow(0px 1px 2px rgba(0, 0, 0, 0.3));\n",
              "      fill: #FFFFFF;\n",
              "    }\n",
              "  </style>\n",
              "\n",
              "    <script>\n",
              "      const buttonEl =\n",
              "        document.querySelector('#df-592b47a7-d86e-4347-90e9-338709fe0f70 button.colab-df-convert');\n",
              "      buttonEl.style.display =\n",
              "        google.colab.kernel.accessAllowed ? 'block' : 'none';\n",
              "\n",
              "      async function convertToInteractive(key) {\n",
              "        const element = document.querySelector('#df-592b47a7-d86e-4347-90e9-338709fe0f70');\n",
              "        const dataTable =\n",
              "          await google.colab.kernel.invokeFunction('convertToInteractive',\n",
              "                                                    [key], {});\n",
              "        if (!dataTable) return;\n",
              "\n",
              "        const docLinkHtml = 'Like what you see? Visit the ' +\n",
              "          '<a target=\"_blank\" href=https://colab.research.google.com/notebooks/data_table.ipynb>data table notebook</a>'\n",
              "          + ' to learn more about interactive tables.';\n",
              "        element.innerHTML = '';\n",
              "        dataTable['output_type'] = 'display_data';\n",
              "        await google.colab.output.renderOutput(dataTable, element);\n",
              "        const docLink = document.createElement('div');\n",
              "        docLink.innerHTML = docLinkHtml;\n",
              "        element.appendChild(docLink);\n",
              "      }\n",
              "    </script>\n",
              "  </div>\n",
              "\n",
              "\n",
              "<div id=\"df-ca3c40e4-5c53-4b27-a8fe-3716fa442aab\">\n",
              "  <button class=\"colab-df-quickchart\" onclick=\"quickchart('df-ca3c40e4-5c53-4b27-a8fe-3716fa442aab')\"\n",
              "            title=\"Suggest charts\"\n",
              "            style=\"display:none;\">\n",
              "\n",
              "<svg xmlns=\"http://www.w3.org/2000/svg\" height=\"24px\"viewBox=\"0 0 24 24\"\n",
              "     width=\"24px\">\n",
              "    <g>\n",
              "        <path d=\"M19 3H5c-1.1 0-2 .9-2 2v14c0 1.1.9 2 2 2h14c1.1 0 2-.9 2-2V5c0-1.1-.9-2-2-2zM9 17H7v-7h2v7zm4 0h-2V7h2v10zm4 0h-2v-4h2v4z\"/>\n",
              "    </g>\n",
              "</svg>\n",
              "  </button>\n",
              "\n",
              "<style>\n",
              "  .colab-df-quickchart {\n",
              "      --bg-color: #E8F0FE;\n",
              "      --fill-color: #1967D2;\n",
              "      --hover-bg-color: #E2EBFA;\n",
              "      --hover-fill-color: #174EA6;\n",
              "      --disabled-fill-color: #AAA;\n",
              "      --disabled-bg-color: #DDD;\n",
              "  }\n",
              "\n",
              "  [theme=dark] .colab-df-quickchart {\n",
              "      --bg-color: #3B4455;\n",
              "      --fill-color: #D2E3FC;\n",
              "      --hover-bg-color: #434B5C;\n",
              "      --hover-fill-color: #FFFFFF;\n",
              "      --disabled-bg-color: #3B4455;\n",
              "      --disabled-fill-color: #666;\n",
              "  }\n",
              "\n",
              "  .colab-df-quickchart {\n",
              "    background-color: var(--bg-color);\n",
              "    border: none;\n",
              "    border-radius: 50%;\n",
              "    cursor: pointer;\n",
              "    display: none;\n",
              "    fill: var(--fill-color);\n",
              "    height: 32px;\n",
              "    padding: 0;\n",
              "    width: 32px;\n",
              "  }\n",
              "\n",
              "  .colab-df-quickchart:hover {\n",
              "    background-color: var(--hover-bg-color);\n",
              "    box-shadow: 0 1px 2px rgba(60, 64, 67, 0.3), 0 1px 3px 1px rgba(60, 64, 67, 0.15);\n",
              "    fill: var(--button-hover-fill-color);\n",
              "  }\n",
              "\n",
              "  .colab-df-quickchart-complete:disabled,\n",
              "  .colab-df-quickchart-complete:disabled:hover {\n",
              "    background-color: var(--disabled-bg-color);\n",
              "    fill: var(--disabled-fill-color);\n",
              "    box-shadow: none;\n",
              "  }\n",
              "\n",
              "  .colab-df-spinner {\n",
              "    border: 2px solid var(--fill-color);\n",
              "    border-color: transparent;\n",
              "    border-bottom-color: var(--fill-color);\n",
              "    animation:\n",
              "      spin 1s steps(1) infinite;\n",
              "  }\n",
              "\n",
              "  @keyframes spin {\n",
              "    0% {\n",
              "      border-color: transparent;\n",
              "      border-bottom-color: var(--fill-color);\n",
              "      border-left-color: var(--fill-color);\n",
              "    }\n",
              "    20% {\n",
              "      border-color: transparent;\n",
              "      border-left-color: var(--fill-color);\n",
              "      border-top-color: var(--fill-color);\n",
              "    }\n",
              "    30% {\n",
              "      border-color: transparent;\n",
              "      border-left-color: var(--fill-color);\n",
              "      border-top-color: var(--fill-color);\n",
              "      border-right-color: var(--fill-color);\n",
              "    }\n",
              "    40% {\n",
              "      border-color: transparent;\n",
              "      border-right-color: var(--fill-color);\n",
              "      border-top-color: var(--fill-color);\n",
              "    }\n",
              "    60% {\n",
              "      border-color: transparent;\n",
              "      border-right-color: var(--fill-color);\n",
              "    }\n",
              "    80% {\n",
              "      border-color: transparent;\n",
              "      border-right-color: var(--fill-color);\n",
              "      border-bottom-color: var(--fill-color);\n",
              "    }\n",
              "    90% {\n",
              "      border-color: transparent;\n",
              "      border-bottom-color: var(--fill-color);\n",
              "    }\n",
              "  }\n",
              "</style>\n",
              "\n",
              "  <script>\n",
              "    async function quickchart(key) {\n",
              "      const quickchartButtonEl =\n",
              "        document.querySelector('#' + key + ' button');\n",
              "      quickchartButtonEl.disabled = true;  // To prevent multiple clicks.\n",
              "      quickchartButtonEl.classList.add('colab-df-spinner');\n",
              "      try {\n",
              "        const charts = await google.colab.kernel.invokeFunction(\n",
              "            'suggestCharts', [key], {});\n",
              "      } catch (error) {\n",
              "        console.error('Error during call to suggestCharts:', error);\n",
              "      }\n",
              "      quickchartButtonEl.classList.remove('colab-df-spinner');\n",
              "      quickchartButtonEl.classList.add('colab-df-quickchart-complete');\n",
              "    }\n",
              "    (() => {\n",
              "      let quickchartButtonEl =\n",
              "        document.querySelector('#df-ca3c40e4-5c53-4b27-a8fe-3716fa442aab button');\n",
              "      quickchartButtonEl.style.display =\n",
              "        google.colab.kernel.accessAllowed ? 'block' : 'none';\n",
              "    })();\n",
              "  </script>\n",
              "</div>\n",
              "    </div>\n",
              "  </div>\n"
            ],
            "application/vnd.google.colaboratory.intrinsic+json": {
              "type": "dataframe"
            }
          },
          "metadata": {},
          "execution_count": 26
        }
      ]
    },
    {
      "cell_type": "markdown",
      "source": [
        "Потребуется нормализация признаков"
      ],
      "metadata": {
        "id": "jlXKCzTqqbfh"
      }
    },
    {
      "cell_type": "code",
      "source": [
        "df_imputed[numerical_cols].boxplot(vert=False, figsize=(4, 4))"
      ],
      "metadata": {
        "colab": {
          "base_uri": "https://localhost:8080/",
          "height": 385
        },
        "id": "KyncYkGRww2M",
        "outputId": "76059867-e0f7-48a0-ee4c-9b999206a321"
      },
      "execution_count": null,
      "outputs": [
        {
          "output_type": "execute_result",
          "data": {
            "text/plain": [
              "<Axes: >"
            ]
          },
          "metadata": {},
          "execution_count": 27
        },
        {
          "output_type": "display_data",
          "data": {
            "text/plain": [
              "<Figure size 400x400 with 1 Axes>"
            ],
            "image/png": "[encoded data removed]"
          },
          "metadata": {}
        }
      ]
    },
    {
      "cell_type": "markdown",
      "source": [
        "Ещё раз убедились, что придётся нормализовать данные. В некоторых признаках есть выбросы. Но не могу точно сказать почему такие выбросы. Поэтому не будем удалять."
      ],
      "metadata": {
        "id": "I44MdUW2x08G"
      }
    },
    {
      "cell_type": "markdown",
      "source": [
        "### Матрица корреляции"
      ],
      "metadata": {
        "id": "AnMUW3w6qEql"
      }
    },
    {
      "cell_type": "code",
      "source": [
        "matrix = np.triu(df[numerical_cols].corr(method='spearman'))\n",
        "\n",
        "plt.figure(figsize=(10, 9))\n",
        "\n",
        "sns.heatmap(df[numerical_cols].corr(method='spearman'), annot=True,\n",
        "            fmt='.2f', vmin=-0.3, center=0, cmap='coolwarm', mask=matrix);"
      ],
      "metadata": {
        "colab": {
          "base_uri": "https://localhost:8080/",
          "height": 946
        },
        "id": "jqhuBPHSLXCU",
        "outputId": "4a1c44ed-b046-45bb-a0ab-f855c0dc9416"
      },
      "execution_count": null,
      "outputs": [
        {
          "output_type": "display_data",
          "data": {
            "text/plain": [
              "<Figure size 1000x900 with 2 Axes>"
            ],
            "image/png": "[encoded data removed]"
          },
          "metadata": {}
        }
      ]
    },
    {
      "cell_type": "markdown",
      "source": [
        "У нас есть признаки с корреляцией выше 0.8"
      ],
      "metadata": {
        "id": "TS994HMUqgR5"
      }
    },
    {
      "cell_type": "code",
      "source": [
        "df_imputed.drop(['Height', 'BMI'], inplace=True, axis=1)"
      ],
      "metadata": {
        "id": "GZeQ4ORvqsGB"
      },
      "execution_count": null,
      "outputs": []
    },
    {
      "cell_type": "markdown",
      "source": [
        "# Модели"
      ],
      "metadata": {
        "id": "FiI2eSNH-g2W"
      }
    },
    {
      "cell_type": "code",
      "source": [
        "y = df['Diagnosis']\n",
        "X = df_imputed.copy()\n",
        "\n",
        "# разбиение на обучающую и тестовые выборки\n",
        "X_train, X_test, y_train, y_test = train_test_split(X,\n",
        "                                                    y,\n",
        "                                                    test_size=0.2,\n",
        "                                                    random_state=RND_STATE,\n",
        "                                                    shuffle=True,\n",
        "                                                    )"
      ],
      "metadata": {
        "id": "S_eJ2wnCBmOg"
      },
      "execution_count": null,
      "outputs": []
    },
    {
      "cell_type": "code",
      "source": [
        "# кодируем целевую переменную\n",
        "le = LabelEncoder()\n",
        "y_train_num = le.fit_transform(y_train)\n",
        "y_test_num = le.transform(y_test)"
      ],
      "metadata": {
        "id": "sP1F2sIosUGA"
      },
      "execution_count": null,
      "outputs": []
    },
    {
      "cell_type": "code",
      "source": [
        "# для получения ROC AUC требуется бинаризировать\n",
        "n_classes = len(set(y))\n",
        "classes_in_test = np.unique(y_test_num)\n",
        "y_test_bin = label_binarize(y_test_num, classes=[0, 1])"
      ],
      "metadata": {
        "id": "e_8j5pCcsrii"
      },
      "execution_count": null,
      "outputs": []
    },
    {
      "cell_type": "markdown",
      "source": [
        "## Catboost"
      ],
      "metadata": {
        "id": "som4p_Xc0BVb"
      }
    },
    {
      "cell_type": "code",
      "source": [
        "pipe_catboost = Pipeline([('scaler', StandardScaler()),\n",
        "                         ('clf', CatBoostClassifier(random_state=RND_STATE,\n",
        "                                            # auto_class_weights='Balanced',\n",
        "                                            verbose=False))])\n",
        "\n",
        "pipe_catboost.fit(X_train, y_train_num)\n",
        "\n",
        "y_pred = pipe_catboost.predict(X_test)\n",
        "y_score = pipe_catboost.predict_proba(X_test)\n",
        "print(classification_report(y_test_num, y_pred, target_names=le.classes_))"
      ],
      "metadata": {
        "colab": {
          "base_uri": "https://localhost:8080/"
        },
        "id": "aRfD2U7V-xys",
        "outputId": "5a810082-0b22-4f03-8345-071c6c11b42a"
      },
      "execution_count": null,
      "outputs": [
        {
          "output_type": "stream",
          "name": "stdout",
          "text": [
            "                 precision    recall  f1-score   support\n",
            "\n",
            "   appendicitis       1.00      0.92      0.96       101\n",
            "no appendicitis       0.87      1.00      0.93        55\n",
            "\n",
            "       accuracy                           0.95       156\n",
            "      macro avg       0.94      0.96      0.95       156\n",
            "   weighted avg       0.96      0.95      0.95       156\n",
            "\n"
          ]
        }
      ]
    },
    {
      "cell_type": "code",
      "source": [
        "metrics = get_metrics(y_test_num, y_pred, y_score, name='Catboost_Baseline')\n",
        "metrics"
      ],
      "metadata": {
        "colab": {
          "base_uri": "https://localhost:8080/",
          "height": 81
        },
        "id": "S3JF-GTTeJa_",
        "outputId": "f1390b41-ede9-488a-c86b-c474070ee89f"
      },
      "execution_count": null,
      "outputs": [
        {
          "output_type": "execute_result",
          "data": {
            "text/plain": [
              "               model  Accuracy   ROC_AUC  Precision  Recall        f1  \\\n",
              "0  Catboost_Baseline  0.948718  0.993159   0.873016     1.0  0.932203   \n",
              "\n",
              "    Logloss  \n",
              "0  0.144992  "
            ],
            "text/html": [
              "\n",
              "  <div id=\"df-4581b266-047b-4c25-a56a-06a00471f72f\" class=\"colab-df-container\">\n",
              "    <div>\n",
              "<style scoped>\n",
              "    .dataframe tbody tr th:only-of-type {\n",
              "        vertical-align: middle;\n",
              "    }\n",
              "\n",
              "    .dataframe tbody tr th {\n",
              "        vertical-align: top;\n",
              "    }\n",
              "\n",
              "    .dataframe thead th {\n",
              "        text-align: right;\n",
              "    }\n",
              "</style>\n",
              "<table border=\"1\" class=\"dataframe\">\n",
              "  <thead>\n",
              "    <tr style=\"text-align: right;\">\n",
              "      <th></th>\n",
              "      <th>model</th>\n",
              "      <th>Accuracy</th>\n",
              "      <th>ROC_AUC</th>\n",
              "      <th>Precision</th>\n",
              "      <th>Recall</th>\n",
              "      <th>f1</th>\n",
              "      <th>Logloss</th>\n",
              "    </tr>\n",
              "  </thead>\n",
              "  <tbody>\n",
              "    <tr>\n",
              "      <th>0</th>\n",
              "      <td>Catboost_Baseline</td>\n",
              "      <td>0.948718</td>\n",
              "      <td>0.993159</td>\n",
              "      <td>0.873016</td>\n",
              "      <td>1.0</td>\n",
              "      <td>0.932203</td>\n",
              "      <td>0.144992</td>\n",
              "    </tr>\n",
              "  </tbody>\n",
              "</table>\n",
              "</div>\n",
              "    <div class=\"colab-df-buttons\">\n",
              "\n",
              "  <div class=\"colab-df-container\">\n",
              "    <button class=\"colab-df-convert\" onclick=\"convertToInteractive('df-4581b266-047b-4c25-a56a-06a00471f72f')\"\n",
              "            title=\"Convert this dataframe to an interactive table.\"\n",
              "            style=\"display:none;\">\n",
              "\n",
              "  <svg xmlns=\"http://www.w3.org/2000/svg\" height=\"24px\" viewBox=\"0 -960 960 960\">\n",
              "    <path d=\"M120-120v-720h720v720H120Zm60-500h600v-160H180v160Zm220 220h160v-160H400v160Zm0 220h160v-160H400v160ZM180-400h160v-160H180v160Zm440 0h160v-160H620v160ZM180-180h160v-160H180v160Zm440 0h160v-160H620v160Z\"/>\n",
              "  </svg>\n",
              "    </button>\n",
              "\n",
              "  <style>\n",
              "    .colab-df-container {\n",
              "      display:flex;\n",
              "      gap: 12px;\n",
              "    }\n",
              "\n",
              "    .colab-df-convert {\n",
              "      background-color: #E8F0FE;\n",
              "      border: none;\n",
              "      border-radius: 50%;\n",
              "      cursor: pointer;\n",
              "      display: none;\n",
              "      fill: #1967D2;\n",
              "      height: 32px;\n",
              "      padding: 0 0 0 0;\n",
              "      width: 32px;\n",
              "    }\n",
              "\n",
              "    .colab-df-convert:hover {\n",
              "      background-color: #E2EBFA;\n",
              "      box-shadow: 0px 1px 2px rgba(60, 64, 67, 0.3), 0px 1px 3px 1px rgba(60, 64, 67, 0.15);\n",
              "      fill: #174EA6;\n",
              "    }\n",
              "\n",
              "    .colab-df-buttons div {\n",
              "      margin-bottom: 4px;\n",
              "    }\n",
              "\n",
              "    [theme=dark] .colab-df-convert {\n",
              "      background-color: #3B4455;\n",
              "      fill: #D2E3FC;\n",
              "    }\n",
              "\n",
              "    [theme=dark] .colab-df-convert:hover {\n",
              "      background-color: #434B5C;\n",
              "      box-shadow: 0px 1px 3px 1px rgba(0, 0, 0, 0.15);\n",
              "      filter: drop-shadow(0px 1px 2px rgba(0, 0, 0, 0.3));\n",
              "      fill: #FFFFFF;\n",
              "    }\n",
              "  </style>\n",
              "\n",
              "    <script>\n",
              "      const buttonEl =\n",
              "        document.querySelector('#df-4581b266-047b-4c25-a56a-06a00471f72f button.colab-df-convert');\n",
              "      buttonEl.style.display =\n",
              "        google.colab.kernel.accessAllowed ? 'block' : 'none';\n",
              "\n",
              "      async function convertToInteractive(key) {\n",
              "        const element = document.querySelector('#df-4581b266-047b-4c25-a56a-06a00471f72f');\n",
              "        const dataTable =\n",
              "          await google.colab.kernel.invokeFunction('convertToInteractive',\n",
              "                                                    [key], {});\n",
              "        if (!dataTable) return;\n",
              "\n",
              "        const docLinkHtml = 'Like what you see? Visit the ' +\n",
              "          '<a target=\"_blank\" href=https://colab.research.google.com/notebooks/data_table.ipynb>data table notebook</a>'\n",
              "          + ' to learn more about interactive tables.';\n",
              "        element.innerHTML = '';\n",
              "        dataTable['output_type'] = 'display_data';\n",
              "        await google.colab.output.renderOutput(dataTable, element);\n",
              "        const docLink = document.createElement('div');\n",
              "        docLink.innerHTML = docLinkHtml;\n",
              "        element.appendChild(docLink);\n",
              "      }\n",
              "    </script>\n",
              "  </div>\n",
              "\n",
              "    </div>\n",
              "  </div>\n"
            ],
            "application/vnd.google.colaboratory.intrinsic+json": {
              "type": "dataframe",
              "variable_name": "metrics",
              "summary": "{\n  \"name\": \"metrics\",\n  \"rows\": 1,\n  \"fields\": [\n    {\n      \"column\": \"model\",\n      \"properties\": {\n        \"dtype\": \"string\",\n        \"num_unique_values\": 1,\n        \"samples\": [\n          \"Catboost_Baseline\"\n        ],\n        \"semantic_type\": \"\",\n        \"description\": \"\"\n      }\n    },\n    {\n      \"column\": \"Accuracy\",\n      \"properties\": {\n        \"dtype\": \"number\",\n        \"std\": null,\n        \"min\": 0.9487179487179487,\n        \"max\": 0.9487179487179487,\n        \"num_unique_values\": 1,\n        \"samples\": [\n          0.9487179487179487\n        ],\n        \"semantic_type\": \"\",\n        \"description\": \"\"\n      }\n    },\n    {\n      \"column\": \"ROC_AUC\",\n      \"properties\": {\n        \"dtype\": \"number\",\n        \"std\": null,\n        \"min\": 0.9931593159315931,\n        \"max\": 0.9931593159315931,\n        \"num_unique_values\": 1,\n        \"samples\": [\n          0.9931593159315931\n        ],\n        \"semantic_type\": \"\",\n        \"description\": \"\"\n      }\n    },\n    {\n      \"column\": \"Precision\",\n      \"properties\": {\n        \"dtype\": \"number\",\n        \"std\": null,\n        \"min\": 0.873015873015873,\n        \"max\": 0.873015873015873,\n        \"num_unique_values\": 1,\n        \"samples\": [\n          0.873015873015873\n        ],\n        \"semantic_type\": \"\",\n        \"description\": \"\"\n      }\n    },\n    {\n      \"column\": \"Recall\",\n      \"properties\": {\n        \"dtype\": \"number\",\n        \"std\": null,\n        \"min\": 1.0,\n        \"max\": 1.0,\n        \"num_unique_values\": 1,\n        \"samples\": [\n          1.0\n        ],\n        \"semantic_type\": \"\",\n        \"description\": \"\"\n      }\n    },\n    {\n      \"column\": \"f1\",\n      \"properties\": {\n        \"dtype\": \"number\",\n        \"std\": null,\n        \"min\": 0.9322033898305084,\n        \"max\": 0.9322033898305084,\n        \"num_unique_values\": 1,\n        \"samples\": [\n          0.9322033898305084\n        ],\n        \"semantic_type\": \"\",\n        \"description\": \"\"\n      }\n    },\n    {\n      \"column\": \"Logloss\",\n      \"properties\": {\n        \"dtype\": \"number\",\n        \"std\": null,\n        \"min\": 0.14499171174916944,\n        \"max\": 0.14499171174916944,\n        \"num_unique_values\": 1,\n        \"samples\": [\n          0.14499171174916944\n        ],\n        \"semantic_type\": \"\",\n        \"description\": \"\"\n      }\n    }\n  ]\n}"
            }
          },
          "metadata": {},
          "execution_count": 34
        }
      ]
    },
    {
      "cell_type": "code",
      "source": [
        "importance = pipe_catboost.named_steps['clf'].feature_importances_\n",
        "feature_importance_df = pd.DataFrame({'Feature': X.columns, 'Importance': importance})\n",
        "feature_importance_df = feature_importance_df.sort_values('Importance', ascending=False)\n",
        "feature_importance_df.head(10)"
      ],
      "metadata": {
        "colab": {
          "base_uri": "https://localhost:8080/",
          "height": 363
        },
        "id": "Cy8OvLlEvf51",
        "outputId": "ae70f364-ba9a-4921-ca8a-320b0c254c0f"
      },
      "execution_count": null,
      "outputs": [
        {
          "output_type": "execute_result",
          "data": {
            "text/plain": [
              "                               Feature  Importance\n",
              "99                   Appendix_Diameter   25.809931\n",
              "2                    Appendix_on_US_no   18.070456\n",
              "3                   Appendix_on_US_yes   12.791013\n",
              "96                      Length_of_Stay   11.317549\n",
              "98       Paedriatic_Appendicitis_Score    4.274428\n",
              "97                      Alvarado_Score    3.976515\n",
              "41   Ipsilateral_Rebound_Tenderness_no    3.462978\n",
              "101                          WBC_Count    3.079597\n",
              "58     Surrounding_Tissue_Reaction_yes    1.659063\n",
              "38                      Peritonitis_no    1.386557"
            ],
            "text/html": [
              "\n",
              "  <div id=\"df-c5f63c8b-690f-4606-afed-c73507f3916a\" class=\"colab-df-container\">\n",
              "    <div>\n",
              "<style scoped>\n",
              "    .dataframe tbody tr th:only-of-type {\n",
              "        vertical-align: middle;\n",
              "    }\n",
              "\n",
              "    .dataframe tbody tr th {\n",
              "        vertical-align: top;\n",
              "    }\n",
              "\n",
              "    .dataframe thead th {\n",
              "        text-align: right;\n",
              "    }\n",
              "</style>\n",
              "<table border=\"1\" class=\"dataframe\">\n",
              "  <thead>\n",
              "    <tr style=\"text-align: right;\">\n",
              "      <th></th>\n",
              "      <th>Feature</th>\n",
              "      <th>Importance</th>\n",
              "    </tr>\n",
              "  </thead>\n",
              "  <tbody>\n",
              "    <tr>\n",
              "      <th>99</th>\n",
              "      <td>Appendix_Diameter</td>\n",
              "      <td>25.809931</td>\n",
              "    </tr>\n",
              "    <tr>\n",
              "      <th>2</th>\n",
              "      <td>Appendix_on_US_no</td>\n",
              "      <td>18.070456</td>\n",
              "    </tr>\n",
              "    <tr>\n",
              "      <th>3</th>\n",
              "      <td>Appendix_on_US_yes</td>\n",
              "      <td>12.791013</td>\n",
              "    </tr>\n",
              "    <tr>\n",
              "      <th>96</th>\n",
              "      <td>Length_of_Stay</td>\n",
              "      <td>11.317549</td>\n",
              "    </tr>\n",
              "    <tr>\n",
              "      <th>98</th>\n",
              "      <td>Paedriatic_Appendicitis_Score</td>\n",
              "      <td>4.274428</td>\n",
              "    </tr>\n",
              "    <tr>\n",
              "      <th>97</th>\n",
              "      <td>Alvarado_Score</td>\n",
              "      <td>3.976515</td>\n",
              "    </tr>\n",
              "    <tr>\n",
              "      <th>41</th>\n",
              "      <td>Ipsilateral_Rebound_Tenderness_no</td>\n",
              "      <td>3.462978</td>\n",
              "    </tr>\n",
              "    <tr>\n",
              "      <th>101</th>\n",
              "      <td>WBC_Count</td>\n",
              "      <td>3.079597</td>\n",
              "    </tr>\n",
              "    <tr>\n",
              "      <th>58</th>\n",
              "      <td>Surrounding_Tissue_Reaction_yes</td>\n",
              "      <td>1.659063</td>\n",
              "    </tr>\n",
              "    <tr>\n",
              "      <th>38</th>\n",
              "      <td>Peritonitis_no</td>\n",
              "      <td>1.386557</td>\n",
              "    </tr>\n",
              "  </tbody>\n",
              "</table>\n",
              "</div>\n",
              "    <div class=\"colab-df-buttons\">\n",
              "\n",
              "  <div class=\"colab-df-container\">\n",
              "    <button class=\"colab-df-convert\" onclick=\"convertToInteractive('df-c5f63c8b-690f-4606-afed-c73507f3916a')\"\n",
              "            title=\"Convert this dataframe to an interactive table.\"\n",
              "            style=\"display:none;\">\n",
              "\n",
              "  <svg xmlns=\"http://www.w3.org/2000/svg\" height=\"24px\" viewBox=\"0 -960 960 960\">\n",
              "    <path d=\"M120-120v-720h720v720H120Zm60-500h600v-160H180v160Zm220 220h160v-160H400v160Zm0 220h160v-160H400v160ZM180-400h160v-160H180v160Zm440 0h160v-160H620v160ZM180-180h160v-160H180v160Zm440 0h160v-160H620v160Z\"/>\n",
              "  </svg>\n",
              "    </button>\n",
              "\n",
              "  <style>\n",
              "    .colab-df-container {\n",
              "      display:flex;\n",
              "      gap: 12px;\n",
              "    }\n",
              "\n",
              "    .colab-df-convert {\n",
              "      background-color: #E8F0FE;\n",
              "      border: none;\n",
              "      border-radius: 50%;\n",
              "      cursor: pointer;\n",
              "      display: none;\n",
              "      fill: #1967D2;\n",
              "      height: 32px;\n",
              "      padding: 0 0 0 0;\n",
              "      width: 32px;\n",
              "    }\n",
              "\n",
              "    .colab-df-convert:hover {\n",
              "      background-color: #E2EBFA;\n",
              "      box-shadow: 0px 1px 2px rgba(60, 64, 67, 0.3), 0px 1px 3px 1px rgba(60, 64, 67, 0.15);\n",
              "      fill: #174EA6;\n",
              "    }\n",
              "\n",
              "    .colab-df-buttons div {\n",
              "      margin-bottom: 4px;\n",
              "    }\n",
              "\n",
              "    [theme=dark] .colab-df-convert {\n",
              "      background-color: #3B4455;\n",
              "      fill: #D2E3FC;\n",
              "    }\n",
              "\n",
              "    [theme=dark] .colab-df-convert:hover {\n",
              "      background-color: #434B5C;\n",
              "      box-shadow: 0px 1px 3px 1px rgba(0, 0, 0, 0.15);\n",
              "      filter: drop-shadow(0px 1px 2px rgba(0, 0, 0, 0.3));\n",
              "      fill: #FFFFFF;\n",
              "    }\n",
              "  </style>\n",
              "\n",
              "    <script>\n",
              "      const buttonEl =\n",
              "        document.querySelector('#df-c5f63c8b-690f-4606-afed-c73507f3916a button.colab-df-convert');\n",
              "      buttonEl.style.display =\n",
              "        google.colab.kernel.accessAllowed ? 'block' : 'none';\n",
              "\n",
              "      async function convertToInteractive(key) {\n",
              "        const element = document.querySelector('#df-c5f63c8b-690f-4606-afed-c73507f3916a');\n",
              "        const dataTable =\n",
              "          await google.colab.kernel.invokeFunction('convertToInteractive',\n",
              "                                                    [key], {});\n",
              "        if (!dataTable) return;\n",
              "\n",
              "        const docLinkHtml = 'Like what you see? Visit the ' +\n",
              "          '<a target=\"_blank\" href=https://colab.research.google.com/notebooks/data_table.ipynb>data table notebook</a>'\n",
              "          + ' to learn more about interactive tables.';\n",
              "        element.innerHTML = '';\n",
              "        dataTable['output_type'] = 'display_data';\n",
              "        await google.colab.output.renderOutput(dataTable, element);\n",
              "        const docLink = document.createElement('div');\n",
              "        docLink.innerHTML = docLinkHtml;\n",
              "        element.appendChild(docLink);\n",
              "      }\n",
              "    </script>\n",
              "  </div>\n",
              "\n",
              "\n",
              "<div id=\"df-8f01848f-f4e9-472f-b3c3-2acb6f23444f\">\n",
              "  <button class=\"colab-df-quickchart\" onclick=\"quickchart('df-8f01848f-f4e9-472f-b3c3-2acb6f23444f')\"\n",
              "            title=\"Suggest charts\"\n",
              "            style=\"display:none;\">\n",
              "\n",
              "<svg xmlns=\"http://www.w3.org/2000/svg\" height=\"24px\"viewBox=\"0 0 24 24\"\n",
              "     width=\"24px\">\n",
              "    <g>\n",
              "        <path d=\"M19 3H5c-1.1 0-2 .9-2 2v14c0 1.1.9 2 2 2h14c1.1 0 2-.9 2-2V5c0-1.1-.9-2-2-2zM9 17H7v-7h2v7zm4 0h-2V7h2v10zm4 0h-2v-4h2v4z\"/>\n",
              "    </g>\n",
              "</svg>\n",
              "  </button>\n",
              "\n",
              "<style>\n",
              "  .colab-df-quickchart {\n",
              "      --bg-color: #E8F0FE;\n",
              "      --fill-color: #1967D2;\n",
              "      --hover-bg-color: #E2EBFA;\n",
              "      --hover-fill-color: #174EA6;\n",
              "      --disabled-fill-color: #AAA;\n",
              "      --disabled-bg-color: #DDD;\n",
              "  }\n",
              "\n",
              "  [theme=dark] .colab-df-quickchart {\n",
              "      --bg-color: #3B4455;\n",
              "      --fill-color: #D2E3FC;\n",
              "      --hover-bg-color: #434B5C;\n",
              "      --hover-fill-color: #FFFFFF;\n",
              "      --disabled-bg-color: #3B4455;\n",
              "      --disabled-fill-color: #666;\n",
              "  }\n",
              "\n",
              "  .colab-df-quickchart {\n",
              "    background-color: var(--bg-color);\n",
              "    border: none;\n",
              "    border-radius: 50%;\n",
              "    cursor: pointer;\n",
              "    display: none;\n",
              "    fill: var(--fill-color);\n",
              "    height: 32px;\n",
              "    padding: 0;\n",
              "    width: 32px;\n",
              "  }\n",
              "\n",
              "  .colab-df-quickchart:hover {\n",
              "    background-color: var(--hover-bg-color);\n",
              "    box-shadow: 0 1px 2px rgba(60, 64, 67, 0.3), 0 1px 3px 1px rgba(60, 64, 67, 0.15);\n",
              "    fill: var(--button-hover-fill-color);\n",
              "  }\n",
              "\n",
              "  .colab-df-quickchart-complete:disabled,\n",
              "  .colab-df-quickchart-complete:disabled:hover {\n",
              "    background-color: var(--disabled-bg-color);\n",
              "    fill: var(--disabled-fill-color);\n",
              "    box-shadow: none;\n",
              "  }\n",
              "\n",
              "  .colab-df-spinner {\n",
              "    border: 2px solid var(--fill-color);\n",
              "    border-color: transparent;\n",
              "    border-bottom-color: var(--fill-color);\n",
              "    animation:\n",
              "      spin 1s steps(1) infinite;\n",
              "  }\n",
              "\n",
              "  @keyframes spin {\n",
              "    0% {\n",
              "      border-color: transparent;\n",
              "      border-bottom-color: var(--fill-color);\n",
              "      border-left-color: var(--fill-color);\n",
              "    }\n",
              "    20% {\n",
              "      border-color: transparent;\n",
              "      border-left-color: var(--fill-color);\n",
              "      border-top-color: var(--fill-color);\n",
              "    }\n",
              "    30% {\n",
              "      border-color: transparent;\n",
              "      border-left-color: var(--fill-color);\n",
              "      border-top-color: var(--fill-color);\n",
              "      border-right-color: var(--fill-color);\n",
              "    }\n",
              "    40% {\n",
              "      border-color: transparent;\n",
              "      border-right-color: var(--fill-color);\n",
              "      border-top-color: var(--fill-color);\n",
              "    }\n",
              "    60% {\n",
              "      border-color: transparent;\n",
              "      border-right-color: var(--fill-color);\n",
              "    }\n",
              "    80% {\n",
              "      border-color: transparent;\n",
              "      border-right-color: var(--fill-color);\n",
              "      border-bottom-color: var(--fill-color);\n",
              "    }\n",
              "    90% {\n",
              "      border-color: transparent;\n",
              "      border-bottom-color: var(--fill-color);\n",
              "    }\n",
              "  }\n",
              "</style>\n",
              "\n",
              "  <script>\n",
              "    async function quickchart(key) {\n",
              "      const quickchartButtonEl =\n",
              "        document.querySelector('#' + key + ' button');\n",
              "      quickchartButtonEl.disabled = true;  // To prevent multiple clicks.\n",
              "      quickchartButtonEl.classList.add('colab-df-spinner');\n",
              "      try {\n",
              "        const charts = await google.colab.kernel.invokeFunction(\n",
              "            'suggestCharts', [key], {});\n",
              "      } catch (error) {\n",
              "        console.error('Error during call to suggestCharts:', error);\n",
              "      }\n",
              "      quickchartButtonEl.classList.remove('colab-df-spinner');\n",
              "      quickchartButtonEl.classList.add('colab-df-quickchart-complete');\n",
              "    }\n",
              "    (() => {\n",
              "      let quickchartButtonEl =\n",
              "        document.querySelector('#df-8f01848f-f4e9-472f-b3c3-2acb6f23444f button');\n",
              "      quickchartButtonEl.style.display =\n",
              "        google.colab.kernel.accessAllowed ? 'block' : 'none';\n",
              "    })();\n",
              "  </script>\n",
              "</div>\n",
              "    </div>\n",
              "  </div>\n"
            ],
            "application/vnd.google.colaboratory.intrinsic+json": {
              "type": "dataframe",
              "variable_name": "feature_importance_df",
              "summary": "{\n  \"name\": \"feature_importance_df\",\n  \"rows\": 108,\n  \"fields\": [\n    {\n      \"column\": \"Feature\",\n      \"properties\": {\n        \"dtype\": \"string\",\n        \"num_unique_values\": 108,\n        \"samples\": [\n          \"Appendix_Wall_Layers_partially raised\",\n          \"Age\",\n          \"Paedriatic_Appendicitis_Score\"\n        ],\n        \"semantic_type\": \"\",\n        \"description\": \"\"\n      }\n    },\n    {\n      \"column\": \"Importance\",\n      \"properties\": {\n        \"dtype\": \"number\",\n        \"std\": 3.4315718387884453,\n        \"min\": 0.0,\n        \"max\": 25.809930622362785,\n        \"num_unique_values\": 104,\n        \"samples\": [\n          0.20125697704945572,\n          0.027747551616168206,\n          0.03142286760250026\n        ],\n        \"semantic_type\": \"\",\n        \"description\": \"\"\n      }\n    }\n  ]\n}"
            }
          },
          "metadata": {},
          "execution_count": 35
        }
      ]
    },
    {
      "cell_type": "code",
      "source": [
        "# show_weights(pipe_catboost.named_steps['clf'], feature_names=feature_names, top=10)"
      ],
      "metadata": {
        "id": "RTFA0i_ev0Dm"
      },
      "execution_count": null,
      "outputs": []
    },
    {
      "cell_type": "markdown",
      "source": [
        "**Выводы:**\n",
        "\n",
        "- Важными признаками здесь являлись Appendix_Diameter, Appendix_on_US_no, Appendix_on_US_yes\n",
        "- В целом модель справилась очень хорошо"
      ],
      "metadata": {
        "id": "vP6eimirwYzD"
      }
    },
    {
      "cell_type": "markdown",
      "source": [
        "## Логистическая регрессия"
      ],
      "metadata": {
        "id": "yw7DljFgCjs_"
      }
    },
    {
      "cell_type": "code",
      "source": [
        "pipe_lr_base = Pipeline([('scaler', StandardScaler()),\n",
        "                         ('clf', LogisticRegression(random_state=RND_STATE,\n",
        "                                            max_iter=10000,\n",
        "                                            ))])\n",
        "\n",
        "pipe_lr_base.fit(X_train, y_train_num)\n",
        "\n",
        "y_pred = pipe_lr_base.predict(X_test)\n",
        "y_score = pipe_lr_base.predict_proba(X_test)\n",
        "\n",
        "print(classification_report(y_test_num, y_pred, target_names=le.classes_))"
      ],
      "metadata": {
        "colab": {
          "base_uri": "https://localhost:8080/"
        },
        "id": "8Qh2DBiWCm9G",
        "outputId": "2658f717-8936-4dfe-9211-033e42c3a0b5"
      },
      "execution_count": null,
      "outputs": [
        {
          "output_type": "stream",
          "name": "stdout",
          "text": [
            "                 precision    recall  f1-score   support\n",
            "\n",
            "   appendicitis       0.95      0.86      0.90       101\n",
            "no appendicitis       0.78      0.91      0.84        55\n",
            "\n",
            "       accuracy                           0.88       156\n",
            "      macro avg       0.86      0.89      0.87       156\n",
            "   weighted avg       0.89      0.88      0.88       156\n",
            "\n"
          ]
        }
      ]
    },
    {
      "cell_type": "code",
      "source": [
        "coef = pipe_lr_base.named_steps['clf'].coef_[0]\n",
        "feature_names = X.columns\n",
        "importance = np.abs(coef)\n",
        "importance_df = pd.DataFrame({'Feature': feature_names, 'Importance': importance})\n",
        "importance_df = importance_df.sort_values('Importance', ascending=False)\n",
        "\n",
        "# выводим первые 10 признаков с наибольшей важностью\n",
        "print(importance_df.head(10))"
      ],
      "metadata": {
        "colab": {
          "base_uri": "https://localhost:8080/"
        },
        "id": "Un2OUxVfQGs8",
        "outputId": "c544d932-fffa-4ed2-f80e-2847974675a5"
      },
      "execution_count": null,
      "outputs": [
        {
          "output_type": "stream",
          "name": "stdout",
          "text": [
            "                                Feature  Importance\n",
            "99                    Appendix_Diameter    3.695611\n",
            "2                     Appendix_on_US_no    1.467964\n",
            "41    Ipsilateral_Rebound_Tenderness_no    1.255162\n",
            "3                    Appendix_on_US_yes    1.201572\n",
            "96                       Length_of_Stay    1.164682\n",
            "30                           Dysuria_no    0.815918\n",
            "10                     Coughing_Pain_no    0.773161\n",
            "97                       Alvarado_Score    0.712146\n",
            "101                           WBC_Count    0.638484\n",
            "42   Ipsilateral_Rebound_Tenderness_yes    0.614111\n"
          ]
        }
      ]
    },
    {
      "cell_type": "code",
      "source": [
        "show_weights(pipe_lr_base.named_steps['clf'], feature_names=feature_names.tolist(), top=10)"
      ],
      "metadata": {
        "colab": {
          "base_uri": "https://localhost:8080/",
          "height": 298
        },
        "id": "0p8AxXGCztUx",
        "outputId": "520f5617-f3fa-4a3e-bc3b-d17041d4bd05"
      },
      "execution_count": null,
      "outputs": [
        {
          "output_type": "execute_result",
          "data": {
            "text/plain": [
              "<IPython.core.display.HTML object>"
            ],
            "text/html": [
              "\n",
              "    <style>\n",
              "    table.eli5-weights tr:hover {\n",
              "        filter: brightness(85%);\n",
              "    }\n",
              "</style>\n",
              "\n",
              "\n",
              "\n",
              "    \n",
              "\n",
              "    \n",
              "\n",
              "    \n",
              "\n",
              "    \n",
              "\n",
              "    \n",
              "\n",
              "    \n",
              "\n",
              "\n",
              "    \n",
              "\n",
              "    \n",
              "\n",
              "    \n",
              "\n",
              "    \n",
              "        \n",
              "\n",
              "    \n",
              "\n",
              "        \n",
              "            \n",
              "                \n",
              "                \n",
              "    \n",
              "        <p style=\"margin-bottom: 0.5em; margin-top: 0em\">\n",
              "            <b>\n",
              "    \n",
              "        y=1\n",
              "    \n",
              "</b>\n",
              "\n",
              "top features\n",
              "        </p>\n",
              "    \n",
              "    <table class=\"eli5-weights\"\n",
              "           style=\"border-collapse: collapse; border: none; margin-top: 0em; table-layout: auto; margin-bottom: 2em;\">\n",
              "        <thead>\n",
              "        <tr style=\"border: none;\">\n",
              "            \n",
              "                <th style=\"padding: 0 1em 0 0.5em; text-align: right; border: none;\" title=\"Feature weights. Note that weights do not account for feature value scales, so if feature values have different scales, features with highest weights might not be the most important.\">\n",
              "                    Weight<sup>?</sup>\n",
              "                </th>\n",
              "            \n",
              "            <th style=\"padding: 0 0.5em 0 0.5em; text-align: left; border: none;\">Feature</th>\n",
              "            \n",
              "        </tr>\n",
              "        </thead>\n",
              "        <tbody>\n",
              "        \n",
              "            <tr style=\"background-color: hsl(120, 100.00%, 89.52%); border: none;\">\n",
              "    <td style=\"padding: 0 1em 0 0.5em; text-align: right; border: none;\">\n",
              "        +1.468\n",
              "    </td>\n",
              "    <td style=\"padding: 0 0.5em 0 0.5em; text-align: left; border: none;\">\n",
              "        Appendix_on_US_no\n",
              "    </td>\n",
              "    \n",
              "</tr>\n",
              "        \n",
              "            <tr style=\"background-color: hsl(120, 100.00%, 90.61%); border: none;\">\n",
              "    <td style=\"padding: 0 1em 0 0.5em; text-align: right; border: none;\">\n",
              "        +1.255\n",
              "    </td>\n",
              "    <td style=\"padding: 0 0.5em 0 0.5em; text-align: left; border: none;\">\n",
              "        Ipsilateral_Rebound_Tenderness_no\n",
              "    </td>\n",
              "    \n",
              "</tr>\n",
              "        \n",
              "            <tr style=\"background-color: hsl(120, 100.00%, 93.05%); border: none;\">\n",
              "    <td style=\"padding: 0 1em 0 0.5em; text-align: right; border: none;\">\n",
              "        +0.816\n",
              "    </td>\n",
              "    <td style=\"padding: 0 0.5em 0 0.5em; text-align: left; border: none;\">\n",
              "        Dysuria_no\n",
              "    </td>\n",
              "    \n",
              "</tr>\n",
              "        \n",
              "            <tr style=\"background-color: hsl(120, 100.00%, 93.31%); border: none;\">\n",
              "    <td style=\"padding: 0 1em 0 0.5em; text-align: right; border: none;\">\n",
              "        +0.773\n",
              "    </td>\n",
              "    <td style=\"padding: 0 0.5em 0 0.5em; text-align: left; border: none;\">\n",
              "        Coughing_Pain_no\n",
              "    </td>\n",
              "    \n",
              "</tr>\n",
              "        \n",
              "        \n",
              "            <tr style=\"background-color: hsl(120, 100.00%, 93.31%); border: none;\">\n",
              "                <td colspan=\"2\" style=\"padding: 0 0.5em 0 0.5em; text-align: center; border: none; white-space: nowrap;\">\n",
              "                    <i>&hellip; 43 more positive &hellip;</i>\n",
              "                </td>\n",
              "            </tr>\n",
              "        \n",
              "\n",
              "        \n",
              "            <tr style=\"background-color: hsl(0, 100.00%, 94.15%); border: none;\">\n",
              "                <td colspan=\"2\" style=\"padding: 0 0.5em 0 0.5em; text-align: center; border: none; white-space: nowrap;\">\n",
              "                    <i>&hellip; 51 more negative &hellip;</i>\n",
              "                </td>\n",
              "            </tr>\n",
              "        \n",
              "        \n",
              "            <tr style=\"background-color: hsl(0, 100.00%, 94.15%); border: none;\">\n",
              "    <td style=\"padding: 0 1em 0 0.5em; text-align: right; border: none;\">\n",
              "        -0.638\n",
              "    </td>\n",
              "    <td style=\"padding: 0 0.5em 0 0.5em; text-align: left; border: none;\">\n",
              "        WBC_Count\n",
              "    </td>\n",
              "    \n",
              "</tr>\n",
              "        \n",
              "            <tr style=\"background-color: hsl(0, 100.00%, 93.68%); border: none;\">\n",
              "    <td style=\"padding: 0 1em 0 0.5em; text-align: right; border: none;\">\n",
              "        -0.712\n",
              "    </td>\n",
              "    <td style=\"padding: 0 0.5em 0 0.5em; text-align: left; border: none;\">\n",
              "        Alvarado_Score\n",
              "    </td>\n",
              "    \n",
              "</tr>\n",
              "        \n",
              "            <tr style=\"background-color: hsl(0, 100.00%, 91.09%); border: none;\">\n",
              "    <td style=\"padding: 0 1em 0 0.5em; text-align: right; border: none;\">\n",
              "        -1.165\n",
              "    </td>\n",
              "    <td style=\"padding: 0 0.5em 0 0.5em; text-align: left; border: none;\">\n",
              "        Length_of_Stay\n",
              "    </td>\n",
              "    \n",
              "</tr>\n",
              "        \n",
              "            <tr style=\"background-color: hsl(0, 100.00%, 90.89%); border: none;\">\n",
              "    <td style=\"padding: 0 1em 0 0.5em; text-align: right; border: none;\">\n",
              "        -1.202\n",
              "    </td>\n",
              "    <td style=\"padding: 0 0.5em 0 0.5em; text-align: left; border: none;\">\n",
              "        Appendix_on_US_yes\n",
              "    </td>\n",
              "    \n",
              "</tr>\n",
              "        \n",
              "            <tr style=\"background-color: hsl(0, 100.00%, 83.70%); border: none;\">\n",
              "    <td style=\"padding: 0 1em 0 0.5em; text-align: right; border: none;\">\n",
              "        -2.760\n",
              "    </td>\n",
              "    <td style=\"padding: 0 0.5em 0 0.5em; text-align: left; border: none;\">\n",
              "        &lt;BIAS&gt;\n",
              "    </td>\n",
              "    \n",
              "</tr>\n",
              "        \n",
              "            <tr style=\"background-color: hsl(0, 100.00%, 80.00%); border: none;\">\n",
              "    <td style=\"padding: 0 1em 0 0.5em; text-align: right; border: none;\">\n",
              "        -3.696\n",
              "    </td>\n",
              "    <td style=\"padding: 0 0.5em 0 0.5em; text-align: left; border: none;\">\n",
              "        Appendix_Diameter\n",
              "    </td>\n",
              "    \n",
              "</tr>\n",
              "        \n",
              "\n",
              "        </tbody>\n",
              "    </table>\n",
              "\n",
              "            \n",
              "        \n",
              "\n",
              "        \n",
              "\n",
              "\n",
              "\n",
              "    \n",
              "\n",
              "    \n",
              "\n",
              "    \n",
              "\n",
              "    \n",
              "\n",
              "\n",
              "    \n",
              "\n",
              "    \n",
              "\n",
              "    \n",
              "\n",
              "    \n",
              "\n",
              "    \n",
              "\n",
              "    \n",
              "\n",
              "\n",
              "    \n",
              "\n",
              "    \n",
              "\n",
              "    \n",
              "\n",
              "    \n",
              "\n",
              "    \n",
              "\n",
              "    \n",
              "\n",
              "\n",
              "\n"
            ]
          },
          "metadata": {},
          "execution_count": 39
        }
      ]
    },
    {
      "cell_type": "markdown",
      "source": [
        "**Выводы:**\n",
        "- Логистическая регрессия показала результаты хуже, чем Catboost\n",
        "- Важными признаками здесь являлись Appendix_Diameter, Appendix_on_US_no... В общем, примерно такие же признаки как и в Catboost"
      ],
      "metadata": {
        "id": "fJIGNuPJvv-J"
      }
    },
    {
      "cell_type": "code",
      "source": [
        "metrics = pd.concat(\n",
        "    [metrics,\n",
        "     get_metrics(y_test_num, y_pred, y_score, name='Log_Reg_Baseline')])"
      ],
      "metadata": {
        "id": "TOSB9ToAyjgt"
      },
      "execution_count": null,
      "outputs": []
    },
    {
      "cell_type": "markdown",
      "source": [
        "Вне общей оценки различный моделей, проверим результаты так, если бы мы заполняли пропущенные значения просто медианой"
      ],
      "metadata": {
        "id": "I2alKAC4yMm1"
      }
    },
    {
      "cell_type": "code",
      "source": [
        "y = df_original['Diagnosis']\n",
        "X = df_original.copy()\n",
        "X = X.drop('Diagnosis', axis=1)\n",
        "\n",
        "# разбиение на обучающую и тестовые выборки\n",
        "X_train, X_test, y_train, y_test = train_test_split(X,\n",
        "                                                    y,\n",
        "                                                    test_size=0.2,\n",
        "                                                    random_state=RND_STATE,\n",
        "                                                    shuffle=True,\n",
        "                                                    )"
      ],
      "metadata": {
        "id": "Nnu0ITWbFMfu"
      },
      "execution_count": null,
      "outputs": []
    },
    {
      "cell_type": "code",
      "source": [
        "numeric_transformer = Pipeline(steps=[('imputer', SimpleImputer(strategy=\"median\")),\n",
        "                                      ('scaler', StandardScaler())])\n",
        "\n",
        "categorical_transformer = Pipeline(steps=[('encoder', OneHotEncoder(handle_unknown=\"ignore\"))])\n",
        "\n",
        "preprocessor = ColumnTransformer(\n",
        "                transformers=[(\"num\", numeric_transformer, numerical_cols),\n",
        "                              (\"cat\", categorical_transformer, categorical_cols)])\n",
        "\n",
        "\n",
        "pipe_lr_base = Pipeline([('feature_preprocessor', preprocessor),\n",
        "                         ('clf', LogisticRegression(random_state=RND_STATE,\n",
        "                                            max_iter=10,\n",
        "                                            ))])\n",
        "\n",
        "pipe_lr_base.fit(X_train, y_train)\n",
        "\n",
        "y_pred = pipe_lr_base.predict(X_test)\n",
        "y_score = pipe_lr_base.predict_proba(X_test)\n",
        "\n",
        "print(classification_report(y_test, y_pred))"
      ],
      "metadata": {
        "colab": {
          "base_uri": "https://localhost:8080/"
        },
        "id": "oa1ZQWbkCxW3",
        "outputId": "ee42386f-e225-4e6c-9c45-cdd9763ff520"
      },
      "execution_count": null,
      "outputs": [
        {
          "output_type": "stream",
          "name": "stdout",
          "text": [
            "                 precision    recall  f1-score   support\n",
            "\n",
            "   appendicitis       0.96      0.86      0.91       101\n",
            "no appendicitis       0.78      0.93      0.85        55\n",
            "\n",
            "       accuracy                           0.88       156\n",
            "      macro avg       0.87      0.89      0.88       156\n",
            "   weighted avg       0.90      0.88      0.89       156\n",
            "\n"
          ]
        }
      ]
    },
    {
      "cell_type": "markdown",
      "source": [
        "Принципиальных различий в результах нет."
      ],
      "metadata": {
        "id": "kAyRI2P2yUZj"
      }
    },
    {
      "cell_type": "markdown",
      "source": [
        "## PyTorch"
      ],
      "metadata": {
        "id": "YLYSinet0KD0"
      }
    },
    {
      "cell_type": "code",
      "source": [
        "import torch\n",
        "from torch.utils.data import TensorDataset, DataLoader\n",
        "from torch import nn, optim\n",
        "import copy"
      ],
      "metadata": {
        "id": "6q3eukrYqNfF"
      },
      "execution_count": null,
      "outputs": []
    },
    {
      "cell_type": "code",
      "source": [
        "def seed_everything(seed=42):\n",
        "\n",
        "    np.random.seed(seed)\n",
        "    torch.manual_seed(seed)\n",
        "    torch.cuda.manual_seed(seed)\n",
        "    torch.backends.cudnn.deterministic = True\n",
        "\n",
        "seed_everything(seed=RND_STATE)"
      ],
      "metadata": {
        "id": "JOy4LLFo_UHA"
      },
      "execution_count": null,
      "outputs": []
    },
    {
      "cell_type": "markdown",
      "source": [
        "Хотим обучаться на обучающем датасете, поэтому нам понадоби"
      ],
      "metadata": {
        "id": "ViSzH1mJrINw"
      }
    },
    {
      "cell_type": "code",
      "source": [
        "y = df['Diagnosis']\n",
        "X = df_imputed.copy()"
      ],
      "metadata": {
        "id": "xHoA12YTcVPd"
      },
      "execution_count": null,
      "outputs": []
    },
    {
      "cell_type": "code",
      "source": [
        "# Разделение на обучающую и тестовую выборки\n",
        "X_train, X_test, y_train, y_test = train_test_split(X, y, test_size=0.2, random_state=42)\n",
        "\n",
        "# Разделение обучающей выборки на обучающую и валидационную\n",
        "X_train, X_val, y_train, y_val = train_test_split(X_train, y_train, test_size=0.2, random_state=42)\n",
        "\n",
        "# Нормализация данных\n",
        "scaler = StandardScaler()\n",
        "X_train = scaler.fit_transform(X_train)\n",
        "X_val = scaler.transform(X_val)\n",
        "X_test = scaler.transform(X_test)\n",
        "\n",
        "# Кодирование целевой переменной\n",
        "le = LabelEncoder()\n",
        "y_train_num = le.fit_transform(y_train)\n",
        "y_val_num = le.fit_transform(y_val)\n",
        "y_test_num = le.transform(y_test)"
      ],
      "metadata": {
        "id": "i8hQX95spVij"
      },
      "execution_count": null,
      "outputs": []
    },
    {
      "cell_type": "code",
      "source": [
        "# Создание тензорных наборов данных\n",
        "train_dataset = TensorDataset(\n",
        "    torch.tensor(X_train, dtype=torch.float32),\n",
        "    torch.tensor(y_train_num, dtype=torch.long)\n",
        ")\n",
        "\n",
        "val_dataset = TensorDataset(\n",
        "    torch.tensor(X_val, dtype=torch.float32),\n",
        "    torch.tensor(y_val_num, dtype=torch.long)\n",
        ")\n",
        "\n",
        "test_dataset = TensorDataset(\n",
        "    torch.tensor(X_test, dtype=torch.float32),\n",
        "    torch.tensor(y_test_num, dtype=torch.long)\n",
        ")"
      ],
      "metadata": {
        "id": "5DUR2brPpdiR"
      },
      "execution_count": null,
      "outputs": []
    },
    {
      "cell_type": "code",
      "source": [
        "# Конфигурационный класс\n",
        "class CFG:\n",
        "    hidden_size = 128\n",
        "    dropout = 0.1\n",
        "    lr = 1e-3\n",
        "    batch_size = 128\n",
        "    num_workers = 4\n",
        "    epochs = 20\n",
        "    num_features = X_train.shape[1]\n",
        "    num_tar_class = len(np.unique(y))"
      ],
      "metadata": {
        "id": "r-Fyr3-Zphbf"
      },
      "execution_count": null,
      "outputs": []
    },
    {
      "cell_type": "code",
      "source": [
        "# DataLoader\n",
        "dataloaders_dict = {\n",
        "    'train': DataLoader(train_dataset, batch_size=CFG.batch_size, shuffle=True, num_workers=CFG.num_workers),\n",
        "    'val': DataLoader(val_dataset, batch_size=CFG.batch_size, shuffle=False, num_workers=CFG.num_workers),\n",
        "    'test': DataLoader(test_dataset, batch_size=CFG.batch_size, shuffle=False, num_workers=CFG.num_workers)\n",
        "}"
      ],
      "metadata": {
        "id": "pJDIhQKBplMu"
      },
      "execution_count": null,
      "outputs": []
    },
    {
      "cell_type": "code",
      "source": [
        "# Модель\n",
        "class TabularNN(nn.Module):\n",
        "    def __init__(self, cfg):\n",
        "        super().__init__()\n",
        "        self.mlp = nn.Sequential(\n",
        "            nn.Linear(cfg.num_features, cfg.hidden_size),\n",
        "            nn.Dropout(cfg.dropout),\n",
        "            nn.ReLU(),\n",
        "            nn.Linear(cfg.hidden_size, cfg.hidden_size),\n",
        "            nn.Dropout(cfg.dropout),\n",
        "            nn.ReLU(),\n",
        "            nn.Linear(cfg.hidden_size, cfg.hidden_size // 2),\n",
        "        )\n",
        "        self.classifier = nn.Sequential(\n",
        "            nn.Linear(cfg.hidden_size // 2, cfg.num_tar_class)\n",
        "        )\n",
        "\n",
        "    def forward(self, data):\n",
        "        x = self.mlp(data)\n",
        "        tar_class = self.classifier(x)\n",
        "        return tar_class"
      ],
      "metadata": {
        "id": "rG1NZHmWpwiv"
      },
      "execution_count": null,
      "outputs": []
    },
    {
      "cell_type": "code",
      "source": [
        "# Функция обучения\n",
        "def train_model(model, dataloaders, criterion, optimizer, num_epochs=25, early_stopping_rounds=5, verbose=2):\n",
        "    train_loss_history = []\n",
        "    val_loss_history = []\n",
        "\n",
        "    best_model_wts = copy.deepcopy(model.state_dict())\n",
        "    best_loss = np.inf\n",
        "    early_steps = 0\n",
        "    stop = False\n",
        "\n",
        "    for epoch in range(num_epochs):\n",
        "        if stop:\n",
        "            break\n",
        "        if epoch % verbose == 0:\n",
        "            print(f'Epoch {epoch}/{num_epochs - 1}')\n",
        "            print('-' * 10)\n",
        "\n",
        "        for phase in ['train', 'val']:\n",
        "            if phase == 'train':\n",
        "                model.train()\n",
        "            else:\n",
        "                model.eval()\n",
        "\n",
        "            running_loss = 0.0\n",
        "\n",
        "            for inputs, labels in dataloaders[phase]:\n",
        "                inputs = inputs.to(device)\n",
        "                labels = labels.to(device)\n",
        "\n",
        "                optimizer.zero_grad()\n",
        "\n",
        "                with torch.set_grad_enabled(phase == 'train'):\n",
        "                    outputs = model(inputs)\n",
        "                    loss = criterion(outputs, labels)\n",
        "\n",
        "                    if phase == 'train':\n",
        "                        loss.backward()\n",
        "                        optimizer.step()\n",
        "\n",
        "                running_loss += loss.item() * inputs.size(0)\n",
        "\n",
        "            epoch_loss = running_loss / len(dataloaders[phase].dataset)\n",
        "            if epoch % verbose == 0:\n",
        "                print(f'{phase} Loss: {epoch_loss:.4f}')\n",
        "\n",
        "            if phase == 'train':\n",
        "                train_loss_history.append(epoch_loss)\n",
        "            else:\n",
        "                val_loss_history.append(epoch_loss)\n",
        "\n",
        "            if phase == 'val' and epoch_loss < best_loss:\n",
        "                best_model_wts = copy.deepcopy(model.state_dict())\n",
        "                best_loss = epoch_loss\n",
        "                early_steps = 0\n",
        "            if phase == 'val' and epoch_loss > best_loss:\n",
        "                early_steps += 1\n",
        "                if early_steps > early_stopping_rounds:\n",
        "                    stop = True\n",
        "                    print(f'Stopped by early_stopping. Epoch: {epoch}')\n",
        "                    break\n",
        "\n",
        "    model.load_state_dict(best_model_wts)\n",
        "    return model, train_loss_history, val_loss_history"
      ],
      "metadata": {
        "id": "aK919J73p3-K"
      },
      "execution_count": null,
      "outputs": []
    },
    {
      "cell_type": "code",
      "source": [
        "# Устройство для выполнения модели\n",
        "device = torch.device('cpu')"
      ],
      "metadata": {
        "id": "wO1PPDk5p7Wl"
      },
      "execution_count": null,
      "outputs": []
    },
    {
      "cell_type": "code",
      "source": [
        "# Инициализация модели, оптимизатора и функции потерь\n",
        "model = TabularNN(CFG).to(device)\n",
        "optimizer = optim.Adam(model.parameters(), lr=CFG.lr)\n",
        "criterion = nn.CrossEntropyLoss()"
      ],
      "metadata": {
        "id": "UiC11Dn7p_Ir"
      },
      "execution_count": null,
      "outputs": []
    },
    {
      "cell_type": "code",
      "source": [
        "# Обучение модели\n",
        "model_ft, train_loss_history, val_loss_history = train_model(model, dataloaders_dict, criterion, optimizer, num_epochs=CFG.epochs)\n"
      ],
      "metadata": {
        "colab": {
          "base_uri": "https://localhost:8080/"
        },
        "id": "fRTMoGacqTS0",
        "outputId": "74000652-7f56-49c0-b5cd-4ab78963c025"
      },
      "execution_count": null,
      "outputs": [
        {
          "output_type": "stream",
          "name": "stdout",
          "text": [
            "Epoch 0/19\n",
            "----------\n",
            "train Loss: 0.6391\n",
            "val Loss: 0.6287\n",
            "Epoch 2/19\n",
            "----------\n",
            "train Loss: 0.4922\n",
            "val Loss: 0.5042\n",
            "Epoch 4/19\n",
            "----------\n",
            "train Loss: 0.3428\n",
            "val Loss: 0.4212\n",
            "Epoch 6/19\n",
            "----------\n",
            "train Loss: 0.2231\n",
            "val Loss: 0.3952\n",
            "Epoch 8/19\n",
            "----------\n",
            "train Loss: 0.1608\n",
            "val Loss: 0.4019\n",
            "Epoch 10/19\n",
            "----------\n",
            "train Loss: 0.1042\n",
            "val Loss: 0.4317\n",
            "Epoch 12/19\n",
            "----------\n",
            "train Loss: 0.0666\n",
            "val Loss: 0.4563\n",
            "Stopped by early_stopping. Epoch: 12\n"
          ]
        }
      ]
    },
    {
      "cell_type": "code",
      "source": [
        "# Задаем количество эпох\n",
        "epochs_range = range(1, len(train_loss_history) + 1)\n",
        "\n",
        "# Визуализация ошибки по эпохам\n",
        "plt.figure(figsize=(10, 5))\n",
        "plt.plot(epochs_range, train_loss_history, label='Train Loss')\n",
        "plt.plot(epochs_range, val_loss_history, label='Validation Loss')\n",
        "plt.xlabel('Epoch')\n",
        "plt.ylabel('Loss')\n",
        "plt.title('Training and Validation Loss over Epochs')\n",
        "plt.legend()\n",
        "plt.grid(True)\n",
        "plt.show()"
      ],
      "metadata": {
        "colab": {
          "base_uri": "https://localhost:8080/",
          "height": 487
        },
        "id": "mqQCEPnnszit",
        "outputId": "62286b05-0cb5-481f-8276-642e9c290784"
      },
      "execution_count": null,
      "outputs": [
        {
          "output_type": "display_data",
          "data": {
            "text/plain": [
              "<Figure size 1000x500 with 1 Axes>"
            ],
            "image/png": "[encoded data removed]"
          },
          "metadata": {}
        }
      ]
    },
    {
      "cell_type": "code",
      "source": [
        "# Прогнозирование на тестовых данных\n",
        "model_ft.eval()\n",
        "y_pred = []\n",
        "y_score = []\n",
        "with torch.no_grad():\n",
        "    for inputs, labels in dataloaders_dict['test']:\n",
        "        inputs = inputs.to(device)\n",
        "        outputs = model_ft(inputs)\n",
        "        probabilities = nn.Softmax(dim=1)(outputs)\n",
        "        _, preds = torch.max(outputs, 1)\n",
        "        y_pred.extend(preds.cpu().numpy())\n",
        "        y_score.extend(probabilities.cpu().numpy())\n",
        "\n",
        "y_score = np.array(y_score)"
      ],
      "metadata": {
        "id": "6riQk93JqaF1"
      },
      "execution_count": null,
      "outputs": []
    },
    {
      "cell_type": "code",
      "source": [
        "# Оценка результатов\n",
        "print(classification_report(y_test_num, y_pred, target_names=le.classes_))"
      ],
      "metadata": {
        "colab": {
          "base_uri": "https://localhost:8080/"
        },
        "id": "Dupsl0fsqeBW",
        "outputId": "4be10d6f-5f24-43fb-a4a6-444e1050a841"
      },
      "execution_count": null,
      "outputs": [
        {
          "output_type": "stream",
          "name": "stdout",
          "text": [
            "                 precision    recall  f1-score   support\n",
            "\n",
            "   appendicitis       0.86      0.84      0.85        91\n",
            "no appendicitis       0.78      0.82      0.80        65\n",
            "\n",
            "       accuracy                           0.83       156\n",
            "      macro avg       0.82      0.83      0.82       156\n",
            "   weighted avg       0.83      0.83      0.83       156\n",
            "\n"
          ]
        }
      ]
    },
    {
      "cell_type": "code",
      "source": [
        "metrics = pd.concat(\n",
        "    [metrics,\n",
        "     get_metrics(y_test_num, y_pred, y_score, name='Neural_Network')])"
      ],
      "metadata": {
        "id": "eIkU7EWTtTs9"
      },
      "execution_count": null,
      "outputs": []
    },
    {
      "cell_type": "markdown",
      "source": [
        "# Результаты"
      ],
      "metadata": {
        "id": "Mdg-H8Z5taMd"
      }
    },
    {
      "cell_type": "code",
      "source": [
        "metrics.set_index('model', inplace=True)\n",
        "# Сортировка по столбцу ROC_AUC\n",
        "sorted_metrics = metrics.sort_values(by='ROC_AUC', ascending=False)\n",
        "round(sorted_metrics, 5)"
      ],
      "metadata": {
        "colab": {
          "base_uri": "https://localhost:8080/",
          "height": 175
        },
        "id": "HT5vh9L6qiBc",
        "outputId": "0cd93195-58c4-4548-bd12-d634f739cfe9"
      },
      "execution_count": null,
      "outputs": [
        {
          "output_type": "execute_result",
          "data": {
            "text/plain": [
              "                   Accuracy  ROC_AUC  Precision   Recall       f1  Logloss\n",
              "model                                                                     \n",
              "Catboost_Baseline   0.94872  0.99316    0.87302  1.00000  0.93220  0.14499\n",
              "Log_Reg_Baseline    0.87821  0.94869    0.78125  0.90909  0.84034  0.30182\n",
              "Neural_Network      0.82692  0.92240    0.77941  0.81538  0.79699  0.35251"
            ],
            "text/html": [
              "\n",
              "  <div id=\"df-356be43a-66f9-4a5e-bad4-ca3724f496ba\" class=\"colab-df-container\">\n",
              "    <div>\n",
              "<style scoped>\n",
              "    .dataframe tbody tr th:only-of-type {\n",
              "        vertical-align: middle;\n",
              "    }\n",
              "\n",
              "    .dataframe tbody tr th {\n",
              "        vertical-align: top;\n",
              "    }\n",
              "\n",
              "    .dataframe thead th {\n",
              "        text-align: right;\n",
              "    }\n",
              "</style>\n",
              "<table border=\"1\" class=\"dataframe\">\n",
              "  <thead>\n",
              "    <tr style=\"text-align: right;\">\n",
              "      <th></th>\n",
              "      <th>Accuracy</th>\n",
              "      <th>ROC_AUC</th>\n",
              "      <th>Precision</th>\n",
              "      <th>Recall</th>\n",
              "      <th>f1</th>\n",
              "      <th>Logloss</th>\n",
              "    </tr>\n",
              "    <tr>\n",
              "      <th>model</th>\n",
              "      <th></th>\n",
              "      <th></th>\n",
              "      <th></th>\n",
              "      <th></th>\n",
              "      <th></th>\n",
              "      <th></th>\n",
              "    </tr>\n",
              "  </thead>\n",
              "  <tbody>\n",
              "    <tr>\n",
              "      <th>Catboost_Baseline</th>\n",
              "      <td>0.94872</td>\n",
              "      <td>0.99316</td>\n",
              "      <td>0.87302</td>\n",
              "      <td>1.00000</td>\n",
              "      <td>0.93220</td>\n",
              "      <td>0.14499</td>\n",
              "    </tr>\n",
              "    <tr>\n",
              "      <th>Log_Reg_Baseline</th>\n",
              "      <td>0.87821</td>\n",
              "      <td>0.94869</td>\n",
              "      <td>0.78125</td>\n",
              "      <td>0.90909</td>\n",
              "      <td>0.84034</td>\n",
              "      <td>0.30182</td>\n",
              "    </tr>\n",
              "    <tr>\n",
              "      <th>Neural_Network</th>\n",
              "      <td>0.82692</td>\n",
              "      <td>0.92240</td>\n",
              "      <td>0.77941</td>\n",
              "      <td>0.81538</td>\n",
              "      <td>0.79699</td>\n",
              "      <td>0.35251</td>\n",
              "    </tr>\n",
              "  </tbody>\n",
              "</table>\n",
              "</div>\n",
              "    <div class=\"colab-df-buttons\">\n",
              "\n",
              "  <div class=\"colab-df-container\">\n",
              "    <button class=\"colab-df-convert\" onclick=\"convertToInteractive('df-356be43a-66f9-4a5e-bad4-ca3724f496ba')\"\n",
              "            title=\"Convert this dataframe to an interactive table.\"\n",
              "            style=\"display:none;\">\n",
              "\n",
              "  <svg xmlns=\"http://www.w3.org/2000/svg\" height=\"24px\" viewBox=\"0 -960 960 960\">\n",
              "    <path d=\"M120-120v-720h720v720H120Zm60-500h600v-160H180v160Zm220 220h160v-160H400v160Zm0 220h160v-160H400v160ZM180-400h160v-160H180v160Zm440 0h160v-160H620v160ZM180-180h160v-160H180v160Zm440 0h160v-160H620v160Z\"/>\n",
              "  </svg>\n",
              "    </button>\n",
              "\n",
              "  <style>\n",
              "    .colab-df-container {\n",
              "      display:flex;\n",
              "      gap: 12px;\n",
              "    }\n",
              "\n",
              "    .colab-df-convert {\n",
              "      background-color: #E8F0FE;\n",
              "      border: none;\n",
              "      border-radius: 50%;\n",
              "      cursor: pointer;\n",
              "      display: none;\n",
              "      fill: #1967D2;\n",
              "      height: 32px;\n",
              "      padding: 0 0 0 0;\n",
              "      width: 32px;\n",
              "    }\n",
              "\n",
              "    .colab-df-convert:hover {\n",
              "      background-color: #E2EBFA;\n",
              "      box-shadow: 0px 1px 2px rgba(60, 64, 67, 0.3), 0px 1px 3px 1px rgba(60, 64, 67, 0.15);\n",
              "      fill: #174EA6;\n",
              "    }\n",
              "\n",
              "    .colab-df-buttons div {\n",
              "      margin-bottom: 4px;\n",
              "    }\n",
              "\n",
              "    [theme=dark] .colab-df-convert {\n",
              "      background-color: #3B4455;\n",
              "      fill: #D2E3FC;\n",
              "    }\n",
              "\n",
              "    [theme=dark] .colab-df-convert:hover {\n",
              "      background-color: #434B5C;\n",
              "      box-shadow: 0px 1px 3px 1px rgba(0, 0, 0, 0.15);\n",
              "      filter: drop-shadow(0px 1px 2px rgba(0, 0, 0, 0.3));\n",
              "      fill: #FFFFFF;\n",
              "    }\n",
              "  </style>\n",
              "\n",
              "    <script>\n",
              "      const buttonEl =\n",
              "        document.querySelector('#df-356be43a-66f9-4a5e-bad4-ca3724f496ba button.colab-df-convert');\n",
              "      buttonEl.style.display =\n",
              "        google.colab.kernel.accessAllowed ? 'block' : 'none';\n",
              "\n",
              "      async function convertToInteractive(key) {\n",
              "        const element = document.querySelector('#df-356be43a-66f9-4a5e-bad4-ca3724f496ba');\n",
              "        const dataTable =\n",
              "          await google.colab.kernel.invokeFunction('convertToInteractive',\n",
              "                                                    [key], {});\n",
              "        if (!dataTable) return;\n",
              "\n",
              "        const docLinkHtml = 'Like what you see? Visit the ' +\n",
              "          '<a target=\"_blank\" href=https://colab.research.google.com/notebooks/data_table.ipynb>data table notebook</a>'\n",
              "          + ' to learn more about interactive tables.';\n",
              "        element.innerHTML = '';\n",
              "        dataTable['output_type'] = 'display_data';\n",
              "        await google.colab.output.renderOutput(dataTable, element);\n",
              "        const docLink = document.createElement('div');\n",
              "        docLink.innerHTML = docLinkHtml;\n",
              "        element.appendChild(docLink);\n",
              "      }\n",
              "    </script>\n",
              "  </div>\n",
              "\n",
              "\n",
              "<div id=\"df-71389237-e85d-4f35-928d-beb96792ad49\">\n",
              "  <button class=\"colab-df-quickchart\" onclick=\"quickchart('df-71389237-e85d-4f35-928d-beb96792ad49')\"\n",
              "            title=\"Suggest charts\"\n",
              "            style=\"display:none;\">\n",
              "\n",
              "<svg xmlns=\"http://www.w3.org/2000/svg\" height=\"24px\"viewBox=\"0 0 24 24\"\n",
              "     width=\"24px\">\n",
              "    <g>\n",
              "        <path d=\"M19 3H5c-1.1 0-2 .9-2 2v14c0 1.1.9 2 2 2h14c1.1 0 2-.9 2-2V5c0-1.1-.9-2-2-2zM9 17H7v-7h2v7zm4 0h-2V7h2v10zm4 0h-2v-4h2v4z\"/>\n",
              "    </g>\n",
              "</svg>\n",
              "  </button>\n",
              "\n",
              "<style>\n",
              "  .colab-df-quickchart {\n",
              "      --bg-color: #E8F0FE;\n",
              "      --fill-color: #1967D2;\n",
              "      --hover-bg-color: #E2EBFA;\n",
              "      --hover-fill-color: #174EA6;\n",
              "      --disabled-fill-color: #AAA;\n",
              "      --disabled-bg-color: #DDD;\n",
              "  }\n",
              "\n",
              "  [theme=dark] .colab-df-quickchart {\n",
              "      --bg-color: #3B4455;\n",
              "      --fill-color: #D2E3FC;\n",
              "      --hover-bg-color: #434B5C;\n",
              "      --hover-fill-color: #FFFFFF;\n",
              "      --disabled-bg-color: #3B4455;\n",
              "      --disabled-fill-color: #666;\n",
              "  }\n",
              "\n",
              "  .colab-df-quickchart {\n",
              "    background-color: var(--bg-color);\n",
              "    border: none;\n",
              "    border-radius: 50%;\n",
              "    cursor: pointer;\n",
              "    display: none;\n",
              "    fill: var(--fill-color);\n",
              "    height: 32px;\n",
              "    padding: 0;\n",
              "    width: 32px;\n",
              "  }\n",
              "\n",
              "  .colab-df-quickchart:hover {\n",
              "    background-color: var(--hover-bg-color);\n",
              "    box-shadow: 0 1px 2px rgba(60, 64, 67, 0.3), 0 1px 3px 1px rgba(60, 64, 67, 0.15);\n",
              "    fill: var(--button-hover-fill-color);\n",
              "  }\n",
              "\n",
              "  .colab-df-quickchart-complete:disabled,\n",
              "  .colab-df-quickchart-complete:disabled:hover {\n",
              "    background-color: var(--disabled-bg-color);\n",
              "    fill: var(--disabled-fill-color);\n",
              "    box-shadow: none;\n",
              "  }\n",
              "\n",
              "  .colab-df-spinner {\n",
              "    border: 2px solid var(--fill-color);\n",
              "    border-color: transparent;\n",
              "    border-bottom-color: var(--fill-color);\n",
              "    animation:\n",
              "      spin 1s steps(1) infinite;\n",
              "  }\n",
              "\n",
              "  @keyframes spin {\n",
              "    0% {\n",
              "      border-color: transparent;\n",
              "      border-bottom-color: var(--fill-color);\n",
              "      border-left-color: var(--fill-color);\n",
              "    }\n",
              "    20% {\n",
              "      border-color: transparent;\n",
              "      border-left-color: var(--fill-color);\n",
              "      border-top-color: var(--fill-color);\n",
              "    }\n",
              "    30% {\n",
              "      border-color: transparent;\n",
              "      border-left-color: var(--fill-color);\n",
              "      border-top-color: var(--fill-color);\n",
              "      border-right-color: var(--fill-color);\n",
              "    }\n",
              "    40% {\n",
              "      border-color: transparent;\n",
              "      border-right-color: var(--fill-color);\n",
              "      border-top-color: var(--fill-color);\n",
              "    }\n",
              "    60% {\n",
              "      border-color: transparent;\n",
              "      border-right-color: var(--fill-color);\n",
              "    }\n",
              "    80% {\n",
              "      border-color: transparent;\n",
              "      border-right-color: var(--fill-color);\n",
              "      border-bottom-color: var(--fill-color);\n",
              "    }\n",
              "    90% {\n",
              "      border-color: transparent;\n",
              "      border-bottom-color: var(--fill-color);\n",
              "    }\n",
              "  }\n",
              "</style>\n",
              "\n",
              "  <script>\n",
              "    async function quickchart(key) {\n",
              "      const quickchartButtonEl =\n",
              "        document.querySelector('#' + key + ' button');\n",
              "      quickchartButtonEl.disabled = true;  // To prevent multiple clicks.\n",
              "      quickchartButtonEl.classList.add('colab-df-spinner');\n",
              "      try {\n",
              "        const charts = await google.colab.kernel.invokeFunction(\n",
              "            'suggestCharts', [key], {});\n",
              "      } catch (error) {\n",
              "        console.error('Error during call to suggestCharts:', error);\n",
              "      }\n",
              "      quickchartButtonEl.classList.remove('colab-df-spinner');\n",
              "      quickchartButtonEl.classList.add('colab-df-quickchart-complete');\n",
              "    }\n",
              "    (() => {\n",
              "      let quickchartButtonEl =\n",
              "        document.querySelector('#df-71389237-e85d-4f35-928d-beb96792ad49 button');\n",
              "      quickchartButtonEl.style.display =\n",
              "        google.colab.kernel.accessAllowed ? 'block' : 'none';\n",
              "    })();\n",
              "  </script>\n",
              "</div>\n",
              "    </div>\n",
              "  </div>\n"
            ],
            "application/vnd.google.colaboratory.intrinsic+json": {
              "type": "dataframe",
              "summary": "{\n  \"name\": \"round(sorted_metrics, 5)\",\n  \"rows\": 3,\n  \"fields\": [\n    {\n      \"column\": \"model\",\n      \"properties\": {\n        \"dtype\": \"string\",\n        \"num_unique_values\": 3,\n        \"samples\": [\n          \"Catboost_Baseline\",\n          \"Log_Reg_Baseline\",\n          \"Neural_Network\"\n        ],\n        \"semantic_type\": \"\",\n        \"description\": \"\"\n      }\n    },\n    {\n      \"column\": \"Accuracy\",\n      \"properties\": {\n        \"dtype\": \"number\",\n        \"std\": 0.061152220183189866,\n        \"min\": 0.82692,\n        \"max\": 0.94872,\n        \"num_unique_values\": 3,\n        \"samples\": [\n          0.94872,\n          0.87821,\n          0.82692\n        ],\n        \"semantic_type\": \"\",\n        \"description\": \"\"\n      }\n    },\n    {\n      \"column\": \"ROC_AUC\",\n      \"properties\": {\n        \"dtype\": \"number\",\n        \"std\": 0.03576712317198577,\n        \"min\": 0.9224,\n        \"max\": 0.99316,\n        \"num_unique_values\": 3,\n        \"samples\": [\n          0.99316,\n          0.94869,\n          0.9224\n        ],\n        \"semantic_type\": \"\",\n        \"description\": \"\"\n      }\n    },\n    {\n      \"column\": \"Precision\",\n      \"properties\": {\n        \"dtype\": \"number\",\n        \"std\": 0.05352250398975493,\n        \"min\": 0.77941,\n        \"max\": 0.87302,\n        \"num_unique_values\": 3,\n        \"samples\": [\n          0.87302,\n          0.78125,\n          0.77941\n        ],\n        \"semantic_type\": \"\",\n        \"description\": \"\"\n      }\n    },\n    {\n      \"column\": \"Recall\",\n      \"properties\": {\n        \"dtype\": \"number\",\n        \"std\": 0.09231353873258967,\n        \"min\": 0.81538,\n        \"max\": 1.0,\n        \"num_unique_values\": 3,\n        \"samples\": [\n          1.0,\n          0.90909,\n          0.81538\n        ],\n        \"semantic_type\": \"\",\n        \"description\": \"\"\n      }\n    },\n    {\n      \"column\": \"f1\",\n      \"properties\": {\n        \"dtype\": \"number\",\n        \"std\": 0.06904011659897456,\n        \"min\": 0.79699,\n        \"max\": 0.9322,\n        \"num_unique_values\": 3,\n        \"samples\": [\n          0.9322,\n          0.84034,\n          0.79699\n        ],\n        \"semantic_type\": \"\",\n        \"description\": \"\"\n      }\n    },\n    {\n      \"column\": \"Logloss\",\n      \"properties\": {\n        \"dtype\": \"number\",\n        \"std\": 0.10818939827912899,\n        \"min\": 0.14499,\n        \"max\": 0.35251,\n        \"num_unique_values\": 3,\n        \"samples\": [\n          0.14499,\n          0.30182,\n          0.35251\n        ],\n        \"semantic_type\": \"\",\n        \"description\": \"\"\n      }\n    }\n  ]\n}"
            }
          },
          "metadata": {},
          "execution_count": 59
        }
      ]
    },
    {
      "cell_type": "markdown",
      "source": [
        "**Выводы:**\n",
        "- по всем метрикам, в том числе и  roc_auc лучшей моделью оказался бустинг без подбора гиперпараметров\n",
        "- нейросетевой подход показал себя хуже всех, возможно из-за реализации, но возможно и из-за малого количества объектов для обучения"
      ],
      "metadata": {
        "id": "TQ4E5Kn6vNpC"
      }
    }
  ],
  "metadata": {
    "colab": {
      "provenance": [],
      "authorship_tag": "ABX9TyPDNiKZPlieDmr7wvvIF1FM",
      "include_colab_link": true
    },
    "kernelspec": {
      "display_name": "Python 3",
      "name": "python3"
    },
    "language_info": {
      "name": "python"
    }
  },
  "nbformat": 4,
  "nbformat_minor": 0
}